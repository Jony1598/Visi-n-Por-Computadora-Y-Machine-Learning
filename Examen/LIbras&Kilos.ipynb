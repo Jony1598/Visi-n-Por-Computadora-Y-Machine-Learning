{
 "cells": [
  {
   "cell_type": "code",
   "execution_count": 1,
   "id": "a3d4cf4d-f6e8-4e14-ae7e-cdbbf8f724a8",
   "metadata": {},
   "outputs": [],
   "source": [
    "import pandas as pd\n",
    "import numpy as np\n",
    "from sklearn.model_selection import train_test_split\n",
    "import tensorflow as tf"
   ]
  },
  {
   "cell_type": "code",
   "execution_count": 2,
   "id": "dcf7a3bc-dd53-47f8-b3ba-5fd45b9599ca",
   "metadata": {},
   "outputs": [
    {
     "data": {
      "text/plain": [
       "array([27, 75, 60, 87, 45, 67, 57, 64, 85, 19, 16, 50, 35, 54, 16, 52, 73,\n",
       "       43, 58, 93,  9, 83, 65, 47, 96, 19, 14, 23, 25, 62, 31, 35, 44,  4,\n",
       "       75, 67, 66, 74,  8, 61, 32, 85, 57, 65, 73, 42, 71, 30,  2, 49,  7,\n",
       "       85, 68, 24, 65, 59, 41, 18, 44,  3, 21, 58,  6, 27, 79, 46,  8, 10,\n",
       "       44, 48,  1,  9, 42, 39, 98, 68, 88, 76, 97, 52,  6,  4, 79, 13, 91,\n",
       "       88, 79, 53, 42, 83, 46, 23, 76, 75, 50, 56, 30, 25, 12, 50, 30, 35,\n",
       "       70, 33, 40,  3, 59, 19, 80, 26, 63, 58, 16, 87, 76, 72, 27, 20, 59,\n",
       "       53, 86, 42,  2, 17, 86, 43, 91, 32, 17, 52, 25,  5, 67, 70, 36, 10,\n",
       "       27, 42, 57, 50,  1, 62, 16, 77, 94, 55, 27, 48, 48, 18, 19, 11, 60,\n",
       "       51, 31, 19, 61, 24, 88, 36, 27, 34,  3, 72, 88, 48, 60, 62, 39, 42,\n",
       "       57, 88, 22, 57, 12, 87, 16, 15, 52, 76, 58, 97, 28, 93, 58, 79, 88,\n",
       "       21, 37, 35, 14, 78, 30, 75, 61, 55, 10, 55, 24, 28, 29,  2,  5, 38,\n",
       "        9, 78,  3, 47, 66, 90, 80, 37, 87, 87, 20,  2,  6, 74, 63, 98, 55,\n",
       "       51, 57, 20, 59, 26, 16, 78,  9, 12, 10, 76,  3, 26, 15, 77, 99, 70,\n",
       "       32, 77, 14, 99, 26,  6, 58, 85, 47, 84, 93, 89, 89, 29, 33, 98, 61,\n",
       "       74, 31, 82,  3, 39, 63, 72, 33, 79,  1, 37, 55, 89, 33, 60, 38, 93,\n",
       "       61, 56, 81, 28, 18, 79, 98, 75,  6, 83, 68, 63,  9, 38, 51, 68, 17,\n",
       "       73, 65, 29, 69, 78, 19, 32, 95, 50, 70, 14, 29, 40, 77, 89, 87, 61,\n",
       "       88, 50, 63, 50, 57, 46, 16, 71, 34, 50, 23,  9, 51, 83, 16, 81, 13,\n",
       "       45, 34, 27, 92, 45,  2,  6, 89, 10, 37, 91, 53, 19, 80, 79, 89, 18,\n",
       "       53, 25, 44,  8, 20, 68, 25, 64, 48,  8, 95, 44, 78, 43, 33, 63, 49,\n",
       "       93, 91,  1, 50, 80, 71, 49,  5, 29, 24, 75, 56,  1, 91, 32, 97, 43,\n",
       "       51, 70, 96, 87, 49, 62, 60, 50, 90, 26,  2, 81, 57, 12, 16, 37, 23,\n",
       "       27, 10, 97, 18,  4,  7,  2, 96, 58, 24, 24, 21, 78, 72, 37, 33, 25,\n",
       "       61, 71, 98, 89, 48,  7, 82, 50, 62, 48, 79, 41, 57, 73, 64, 56, 95,\n",
       "       11, 83,  7, 92, 55, 70, 64,  8, 40, 40, 78, 99, 66, 80, 69, 82, 45,\n",
       "       63, 65, 83, 11, 82,  4, 52, 14, 15, 17, 50, 76, 55, 45, 23, 43, 22,\n",
       "       68, 57, 39, 45, 18, 58, 63, 83, 79, 78, 23, 16, 10, 89,  4, 74,  7,\n",
       "       88, 76, 19,  2, 88, 96, 24,  3, 41, 97, 49, 86, 60, 88, 71, 17, 13,\n",
       "       32, 51, 52, 10, 51, 87, 46, 23, 77, 68, 62, 66,  1, 97, 46, 80, 10,\n",
       "       82, 98, 13, 70, 26, 74, 59, 14,  7, 23,  6, 53, 94, 66, 95, 37, 61,\n",
       "       52, 49, 60, 79, 65, 64, 42, 92, 99, 48, 81, 39,  3, 35, 46, 27, 86,\n",
       "       36, 35, 75, 66, 77, 14, 49, 32, 65, 77, 92, 20, 25, 41, 52, 60, 34,\n",
       "       50, 92, 74, 76, 19,  9, 64, 96, 62,  5,  9, 17, 39, 19, 92,  5, 98,\n",
       "       50, 60,  6, 37, 31,  6, 18, 58, 59, 64, 68, 95, 62, 99, 94, 81,  6,\n",
       "       27, 97, 83, 78, 91,  1,  7, 32, 42, 66, 13, 17, 47, 17, 85, 67, 17,\n",
       "       64, 41, 80, 75, 73,  7, 48, 10, 96, 18,  4, 91, 73, 72, 65, 26, 37,\n",
       "       50, 79, 97, 92, 54, 62, 62, 20,  5, 22, 50, 57, 30, 85, 86, 26, 36,\n",
       "       70, 20, 17, 94, 77, 37, 10, 68, 74,  1, 15, 84, 98, 25, 81, 22, 65,\n",
       "       48, 69, 95, 60, 38, 70, 17, 58, 73, 98, 11, 27, 25, 85, 23, 95, 79,\n",
       "       98, 33, 21, 19, 38, 72, 13, 98, 63, 27, 10, 38, 43, 38, 89, 78, 41,\n",
       "       39, 75, 64, 53, 13, 18, 15, 38, 51, 51, 78, 97, 90, 12, 59, 52, 43,\n",
       "       43, 30, 60, 27, 32, 76, 62, 82, 80, 35, 14, 87, 31, 49, 97, 67, 15,\n",
       "       74, 36, 26, 39, 64, 39,  9, 68, 27, 40,  6, 56, 87,  7, 64, 60, 84,\n",
       "       47, 44, 29, 57, 72, 45, 76, 28, 54, 77,  4,  1, 32, 58, 15, 24, 23,\n",
       "       92, 96, 29, 28, 63, 60, 70, 94, 91, 47, 26, 38,  9, 59, 75, 17, 49,\n",
       "       10, 43,  2, 74, 71, 53, 47, 24, 46, 65, 83, 98, 82, 91,  2, 83, 58,\n",
       "       98, 43, 92, 43, 22, 81, 86, 68,  9, 25, 21, 25, 12, 26, 10, 53,  9,\n",
       "        7, 31, 15, 16, 95, 50, 88, 78, 63, 51, 55, 14,  5, 65, 47, 52, 43,\n",
       "       15, 64, 48, 37, 80, 89, 14, 93,  5, 80, 77, 46,  1, 10, 46, 98, 39,\n",
       "       67,  4, 81, 17, 74, 44, 85, 24, 21, 28, 82, 76, 32, 54, 70, 20, 48,\n",
       "       98, 44, 22, 76, 28, 39, 63, 13, 94, 15, 50, 22, 82, 82,  1, 80, 43,\n",
       "       31, 39, 64, 37, 99, 93, 27, 92, 69, 83, 44, 73, 97, 90, 80, 75, 22,\n",
       "       15, 87, 19, 28, 89, 27, 68, 96, 73, 52, 53, 45, 58, 87, 69, 92, 24,\n",
       "        3, 94, 98, 97, 21, 38, 75,  7, 75, 47, 41, 40, 54, 73, 76, 17, 12,\n",
       "       54, 86, 45, 49,  8, 12, 29, 20, 95, 63,  4, 48, 46, 19, 86, 17, 85,\n",
       "       87, 63, 74, 83, 72, 95, 20, 78, 75, 53, 36, 71, 55, 34, 32, 44, 71,\n",
       "       37,  3, 32, 14, 66, 13, 90, 48, 60, 41, 25, 91, 67, 89, 35, 76, 98,\n",
       "       57, 17,  2, 49, 56, 65, 98, 17, 21, 55, 88, 50, 43, 51])"
      ]
     },
     "execution_count": 2,
     "metadata": {},
     "output_type": "execute_result"
    }
   ],
   "source": [
    "kilos = np.random.randint(1,100,1000)\n",
    "kilos"
   ]
  },
  {
   "cell_type": "code",
   "execution_count": 3,
   "id": "766758a6-ca7d-4513-921a-0300076b6e26",
   "metadata": {},
   "outputs": [
    {
     "data": {
      "text/plain": [
       "array([ 59.52474, 165.3465 , 132.2772 , 191.80194,  99.2079 , 147.70954,\n",
       "       125.66334, 141.09568, 187.3927 ,  41.88778,  35.27392, 110.231  ,\n",
       "        77.1617 , 119.04948,  35.27392, 114.64024, 160.93726,  94.79866,\n",
       "       127.86796, 205.02966,  19.84158, 182.98346, 143.3003 , 103.61714,\n",
       "       211.64352,  41.88778,  30.86468,  50.70626,  55.1155 , 136.68644,\n",
       "        68.34322,  77.1617 ,  97.00328,   8.81848, 165.3465 , 147.70954,\n",
       "       145.50492, 163.14188,  17.63696, 134.48182,  70.54784, 187.3927 ,\n",
       "       125.66334, 143.3003 , 160.93726,  92.59404, 156.52802,  66.1386 ,\n",
       "         4.40924, 108.02638,  15.43234, 187.3927 , 149.91416,  52.91088,\n",
       "       143.3003 , 130.07258,  90.38942,  39.68316,  97.00328,   6.61386,\n",
       "        46.29702, 127.86796,  13.22772,  59.52474, 174.16498, 101.41252,\n",
       "        17.63696,  22.0462 ,  97.00328, 105.82176,   2.20462,  19.84158,\n",
       "        92.59404,  85.98018, 216.05276, 149.91416, 194.00656, 167.55112,\n",
       "       213.84814, 114.64024,  13.22772,   8.81848, 174.16498,  28.66006,\n",
       "       200.62042, 194.00656, 174.16498, 116.84486,  92.59404, 182.98346,\n",
       "       101.41252,  50.70626, 167.55112, 165.3465 , 110.231  , 123.45872,\n",
       "        66.1386 ,  55.1155 ,  26.45544, 110.231  ,  66.1386 ,  77.1617 ,\n",
       "       154.3234 ,  72.75246,  88.1848 ,   6.61386, 130.07258,  41.88778,\n",
       "       176.3696 ,  57.32012, 138.89106, 127.86796,  35.27392, 191.80194,\n",
       "       167.55112, 158.73264,  59.52474,  44.0924 , 130.07258, 116.84486,\n",
       "       189.59732,  92.59404,   4.40924,  37.47854, 189.59732,  94.79866,\n",
       "       200.62042,  70.54784,  37.47854, 114.64024,  55.1155 ,  11.0231 ,\n",
       "       147.70954, 154.3234 ,  79.36632,  22.0462 ,  59.52474,  92.59404,\n",
       "       125.66334, 110.231  ,   2.20462, 136.68644,  35.27392, 169.75574,\n",
       "       207.23428, 121.2541 ,  59.52474, 105.82176, 105.82176,  39.68316,\n",
       "        41.88778,  24.25082, 132.2772 , 112.43562,  68.34322,  41.88778,\n",
       "       134.48182,  52.91088, 194.00656,  79.36632,  59.52474,  74.95708,\n",
       "         6.61386, 158.73264, 194.00656, 105.82176, 132.2772 , 136.68644,\n",
       "        85.98018,  92.59404, 125.66334, 194.00656,  48.50164, 125.66334,\n",
       "        26.45544, 191.80194,  35.27392,  33.0693 , 114.64024, 167.55112,\n",
       "       127.86796, 213.84814,  61.72936, 205.02966, 127.86796, 174.16498,\n",
       "       194.00656,  46.29702,  81.57094,  77.1617 ,  30.86468, 171.96036,\n",
       "        66.1386 , 165.3465 , 134.48182, 121.2541 ,  22.0462 , 121.2541 ,\n",
       "        52.91088,  61.72936,  63.93398,   4.40924,  11.0231 ,  83.77556,\n",
       "        19.84158, 171.96036,   6.61386, 103.61714, 145.50492, 198.4158 ,\n",
       "       176.3696 ,  81.57094, 191.80194, 191.80194,  44.0924 ,   4.40924,\n",
       "        13.22772, 163.14188, 138.89106, 216.05276, 121.2541 , 112.43562,\n",
       "       125.66334,  44.0924 , 130.07258,  57.32012,  35.27392, 171.96036,\n",
       "        19.84158,  26.45544,  22.0462 , 167.55112,   6.61386,  57.32012,\n",
       "        33.0693 , 169.75574, 218.25738, 154.3234 ,  70.54784, 169.75574,\n",
       "        30.86468, 218.25738,  57.32012,  13.22772, 127.86796, 187.3927 ,\n",
       "       103.61714, 185.18808, 205.02966, 196.21118, 196.21118,  63.93398,\n",
       "        72.75246, 216.05276, 134.48182, 163.14188,  68.34322, 180.77884,\n",
       "         6.61386,  85.98018, 138.89106, 158.73264,  72.75246, 174.16498,\n",
       "         2.20462,  81.57094, 121.2541 , 196.21118,  72.75246, 132.2772 ,\n",
       "        83.77556, 205.02966, 134.48182, 123.45872, 178.57422,  61.72936,\n",
       "        39.68316, 174.16498, 216.05276, 165.3465 ,  13.22772, 182.98346,\n",
       "       149.91416, 138.89106,  19.84158,  83.77556, 112.43562, 149.91416,\n",
       "        37.47854, 160.93726, 143.3003 ,  63.93398, 152.11878, 171.96036,\n",
       "        41.88778,  70.54784, 209.4389 , 110.231  , 154.3234 ,  30.86468,\n",
       "        63.93398,  88.1848 , 169.75574, 196.21118, 191.80194, 134.48182,\n",
       "       194.00656, 110.231  , 138.89106, 110.231  , 125.66334, 101.41252,\n",
       "        35.27392, 156.52802,  74.95708, 110.231  ,  50.70626,  19.84158,\n",
       "       112.43562, 182.98346,  35.27392, 178.57422,  28.66006,  99.2079 ,\n",
       "        74.95708,  59.52474, 202.82504,  99.2079 ,   4.40924,  13.22772,\n",
       "       196.21118,  22.0462 ,  81.57094, 200.62042, 116.84486,  41.88778,\n",
       "       176.3696 , 174.16498, 196.21118,  39.68316, 116.84486,  55.1155 ,\n",
       "        97.00328,  17.63696,  44.0924 , 149.91416,  55.1155 , 141.09568,\n",
       "       105.82176,  17.63696, 209.4389 ,  97.00328, 171.96036,  94.79866,\n",
       "        72.75246, 138.89106, 108.02638, 205.02966, 200.62042,   2.20462,\n",
       "       110.231  , 176.3696 , 156.52802, 108.02638,  11.0231 ,  63.93398,\n",
       "        52.91088, 165.3465 , 123.45872,   2.20462, 200.62042,  70.54784,\n",
       "       213.84814,  94.79866, 112.43562, 154.3234 , 211.64352, 191.80194,\n",
       "       108.02638, 136.68644, 132.2772 , 110.231  , 198.4158 ,  57.32012,\n",
       "         4.40924, 178.57422, 125.66334,  26.45544,  35.27392,  81.57094,\n",
       "        50.70626,  59.52474,  22.0462 , 213.84814,  39.68316,   8.81848,\n",
       "        15.43234,   4.40924, 211.64352, 127.86796,  52.91088,  52.91088,\n",
       "        46.29702, 171.96036, 158.73264,  81.57094,  72.75246,  55.1155 ,\n",
       "       134.48182, 156.52802, 216.05276, 196.21118, 105.82176,  15.43234,\n",
       "       180.77884, 110.231  , 136.68644, 105.82176, 174.16498,  90.38942,\n",
       "       125.66334, 160.93726, 141.09568, 123.45872, 209.4389 ,  24.25082,\n",
       "       182.98346,  15.43234, 202.82504, 121.2541 , 154.3234 , 141.09568,\n",
       "        17.63696,  88.1848 ,  88.1848 , 171.96036, 218.25738, 145.50492,\n",
       "       176.3696 , 152.11878, 180.77884,  99.2079 , 138.89106, 143.3003 ,\n",
       "       182.98346,  24.25082, 180.77884,   8.81848, 114.64024,  30.86468,\n",
       "        33.0693 ,  37.47854, 110.231  , 167.55112, 121.2541 ,  99.2079 ,\n",
       "        50.70626,  94.79866,  48.50164, 149.91416, 125.66334,  85.98018,\n",
       "        99.2079 ,  39.68316, 127.86796, 138.89106, 182.98346, 174.16498,\n",
       "       171.96036,  50.70626,  35.27392,  22.0462 , 196.21118,   8.81848,\n",
       "       163.14188,  15.43234, 194.00656, 167.55112,  41.88778,   4.40924,\n",
       "       194.00656, 211.64352,  52.91088,   6.61386,  90.38942, 213.84814,\n",
       "       108.02638, 189.59732, 132.2772 , 194.00656, 156.52802,  37.47854,\n",
       "        28.66006,  70.54784, 112.43562, 114.64024,  22.0462 , 112.43562,\n",
       "       191.80194, 101.41252,  50.70626, 169.75574, 149.91416, 136.68644,\n",
       "       145.50492,   2.20462, 213.84814, 101.41252, 176.3696 ,  22.0462 ,\n",
       "       180.77884, 216.05276,  28.66006, 154.3234 ,  57.32012, 163.14188,\n",
       "       130.07258,  30.86468,  15.43234,  50.70626,  13.22772, 116.84486,\n",
       "       207.23428, 145.50492, 209.4389 ,  81.57094, 134.48182, 114.64024,\n",
       "       108.02638, 132.2772 , 174.16498, 143.3003 , 141.09568,  92.59404,\n",
       "       202.82504, 218.25738, 105.82176, 178.57422,  85.98018,   6.61386,\n",
       "        77.1617 , 101.41252,  59.52474, 189.59732,  79.36632,  77.1617 ,\n",
       "       165.3465 , 145.50492, 169.75574,  30.86468, 108.02638,  70.54784,\n",
       "       143.3003 , 169.75574, 202.82504,  44.0924 ,  55.1155 ,  90.38942,\n",
       "       114.64024, 132.2772 ,  74.95708, 110.231  , 202.82504, 163.14188,\n",
       "       167.55112,  41.88778,  19.84158, 141.09568, 211.64352, 136.68644,\n",
       "        11.0231 ,  19.84158,  37.47854,  85.98018,  41.88778, 202.82504,\n",
       "        11.0231 , 216.05276, 110.231  , 132.2772 ,  13.22772,  81.57094,\n",
       "        68.34322,  13.22772,  39.68316, 127.86796, 130.07258, 141.09568,\n",
       "       149.91416, 209.4389 , 136.68644, 218.25738, 207.23428, 178.57422,\n",
       "        13.22772,  59.52474, 213.84814, 182.98346, 171.96036, 200.62042,\n",
       "         2.20462,  15.43234,  70.54784,  92.59404, 145.50492,  28.66006,\n",
       "        37.47854, 103.61714,  37.47854, 187.3927 , 147.70954,  37.47854,\n",
       "       141.09568,  90.38942, 176.3696 , 165.3465 , 160.93726,  15.43234,\n",
       "       105.82176,  22.0462 , 211.64352,  39.68316,   8.81848, 200.62042,\n",
       "       160.93726, 158.73264, 143.3003 ,  57.32012,  81.57094, 110.231  ,\n",
       "       174.16498, 213.84814, 202.82504, 119.04948, 136.68644, 136.68644,\n",
       "        44.0924 ,  11.0231 ,  48.50164, 110.231  , 125.66334,  66.1386 ,\n",
       "       187.3927 , 189.59732,  57.32012,  79.36632, 154.3234 ,  44.0924 ,\n",
       "        37.47854, 207.23428, 169.75574,  81.57094,  22.0462 , 149.91416,\n",
       "       163.14188,   2.20462,  33.0693 , 185.18808, 216.05276,  55.1155 ,\n",
       "       178.57422,  48.50164, 143.3003 , 105.82176, 152.11878, 209.4389 ,\n",
       "       132.2772 ,  83.77556, 154.3234 ,  37.47854, 127.86796, 160.93726,\n",
       "       216.05276,  24.25082,  59.52474,  55.1155 , 187.3927 ,  50.70626,\n",
       "       209.4389 , 174.16498, 216.05276,  72.75246,  46.29702,  41.88778,\n",
       "        83.77556, 158.73264,  28.66006, 216.05276, 138.89106,  59.52474,\n",
       "        22.0462 ,  83.77556,  94.79866,  83.77556, 196.21118, 171.96036,\n",
       "        90.38942,  85.98018, 165.3465 , 141.09568, 116.84486,  28.66006,\n",
       "        39.68316,  33.0693 ,  83.77556, 112.43562, 112.43562, 171.96036,\n",
       "       213.84814, 198.4158 ,  26.45544, 130.07258, 114.64024,  94.79866,\n",
       "        94.79866,  66.1386 , 132.2772 ,  59.52474,  70.54784, 167.55112,\n",
       "       136.68644, 180.77884, 176.3696 ,  77.1617 ,  30.86468, 191.80194,\n",
       "        68.34322, 108.02638, 213.84814, 147.70954,  33.0693 , 163.14188,\n",
       "        79.36632,  57.32012,  85.98018, 141.09568,  85.98018,  19.84158,\n",
       "       149.91416,  59.52474,  88.1848 ,  13.22772, 123.45872, 191.80194,\n",
       "        15.43234, 141.09568, 132.2772 , 185.18808, 103.61714,  97.00328,\n",
       "        63.93398, 125.66334, 158.73264,  99.2079 , 167.55112,  61.72936,\n",
       "       119.04948, 169.75574,   8.81848,   2.20462,  70.54784, 127.86796,\n",
       "        33.0693 ,  52.91088,  50.70626, 202.82504, 211.64352,  63.93398,\n",
       "        61.72936, 138.89106, 132.2772 , 154.3234 , 207.23428, 200.62042,\n",
       "       103.61714,  57.32012,  83.77556,  19.84158, 130.07258, 165.3465 ,\n",
       "        37.47854, 108.02638,  22.0462 ,  94.79866,   4.40924, 163.14188,\n",
       "       156.52802, 116.84486, 103.61714,  52.91088, 101.41252, 143.3003 ,\n",
       "       182.98346, 216.05276, 180.77884, 200.62042,   4.40924, 182.98346,\n",
       "       127.86796, 216.05276,  94.79866, 202.82504,  94.79866,  48.50164,\n",
       "       178.57422, 189.59732, 149.91416,  19.84158,  55.1155 ,  46.29702,\n",
       "        55.1155 ,  26.45544,  57.32012,  22.0462 , 116.84486,  19.84158,\n",
       "        15.43234,  68.34322,  33.0693 ,  35.27392, 209.4389 , 110.231  ,\n",
       "       194.00656, 171.96036, 138.89106, 112.43562, 121.2541 ,  30.86468,\n",
       "        11.0231 , 143.3003 , 103.61714, 114.64024,  94.79866,  33.0693 ,\n",
       "       141.09568, 105.82176,  81.57094, 176.3696 , 196.21118,  30.86468,\n",
       "       205.02966,  11.0231 , 176.3696 , 169.75574, 101.41252,   2.20462,\n",
       "        22.0462 , 101.41252, 216.05276,  85.98018, 147.70954,   8.81848,\n",
       "       178.57422,  37.47854, 163.14188,  97.00328, 187.3927 ,  52.91088,\n",
       "        46.29702,  61.72936, 180.77884, 167.55112,  70.54784, 119.04948,\n",
       "       154.3234 ,  44.0924 , 105.82176, 216.05276,  97.00328,  48.50164,\n",
       "       167.55112,  61.72936,  85.98018, 138.89106,  28.66006, 207.23428,\n",
       "        33.0693 , 110.231  ,  48.50164, 180.77884, 180.77884,   2.20462,\n",
       "       176.3696 ,  94.79866,  68.34322,  85.98018, 141.09568,  81.57094,\n",
       "       218.25738, 205.02966,  59.52474, 202.82504, 152.11878, 182.98346,\n",
       "        97.00328, 160.93726, 213.84814, 198.4158 , 176.3696 , 165.3465 ,\n",
       "        48.50164,  33.0693 , 191.80194,  41.88778,  61.72936, 196.21118,\n",
       "        59.52474, 149.91416, 211.64352, 160.93726, 114.64024, 116.84486,\n",
       "        99.2079 , 127.86796, 191.80194, 152.11878, 202.82504,  52.91088,\n",
       "         6.61386, 207.23428, 216.05276, 213.84814,  46.29702,  83.77556,\n",
       "       165.3465 ,  15.43234, 165.3465 , 103.61714,  90.38942,  88.1848 ,\n",
       "       119.04948, 160.93726, 167.55112,  37.47854,  26.45544, 119.04948,\n",
       "       189.59732,  99.2079 , 108.02638,  17.63696,  26.45544,  63.93398,\n",
       "        44.0924 , 209.4389 , 138.89106,   8.81848, 105.82176, 101.41252,\n",
       "        41.88778, 189.59732,  37.47854, 187.3927 , 191.80194, 138.89106,\n",
       "       163.14188, 182.98346, 158.73264, 209.4389 ,  44.0924 , 171.96036,\n",
       "       165.3465 , 116.84486,  79.36632, 156.52802, 121.2541 ,  74.95708,\n",
       "        70.54784,  97.00328, 156.52802,  81.57094,   6.61386,  70.54784,\n",
       "        30.86468, 145.50492,  28.66006, 198.4158 , 105.82176, 132.2772 ,\n",
       "        90.38942,  55.1155 , 200.62042, 147.70954, 196.21118,  77.1617 ,\n",
       "       167.55112, 216.05276, 125.66334,  37.47854,   4.40924, 108.02638,\n",
       "       123.45872, 143.3003 , 216.05276,  37.47854,  46.29702, 121.2541 ,\n",
       "       194.00656, 110.231  ,  94.79866, 112.43562])"
      ]
     },
     "execution_count": 3,
     "metadata": {},
     "output_type": "execute_result"
    }
   ],
   "source": [
    "libras = kilos * 2.20462\n",
    "libras"
   ]
  },
  {
   "cell_type": "code",
   "execution_count": 4,
   "id": "7b4a91f9-42c7-4bc8-9dad-a7f61e95f00a",
   "metadata": {},
   "outputs": [
    {
     "data": {
      "text/html": [
       "<div>\n",
       "<style scoped>\n",
       "    .dataframe tbody tr th:only-of-type {\n",
       "        vertical-align: middle;\n",
       "    }\n",
       "\n",
       "    .dataframe tbody tr th {\n",
       "        vertical-align: top;\n",
       "    }\n",
       "\n",
       "    .dataframe thead th {\n",
       "        text-align: right;\n",
       "    }\n",
       "</style>\n",
       "<table border=\"1\" class=\"dataframe\">\n",
       "  <thead>\n",
       "    <tr style=\"text-align: right;\">\n",
       "      <th></th>\n",
       "      <th>kilos</th>\n",
       "      <th>libras</th>\n",
       "    </tr>\n",
       "  </thead>\n",
       "  <tbody>\n",
       "    <tr>\n",
       "      <th>0</th>\n",
       "      <td>27</td>\n",
       "      <td>59.52474</td>\n",
       "    </tr>\n",
       "    <tr>\n",
       "      <th>1</th>\n",
       "      <td>75</td>\n",
       "      <td>165.34650</td>\n",
       "    </tr>\n",
       "    <tr>\n",
       "      <th>2</th>\n",
       "      <td>60</td>\n",
       "      <td>132.27720</td>\n",
       "    </tr>\n",
       "    <tr>\n",
       "      <th>3</th>\n",
       "      <td>87</td>\n",
       "      <td>191.80194</td>\n",
       "    </tr>\n",
       "    <tr>\n",
       "      <th>4</th>\n",
       "      <td>45</td>\n",
       "      <td>99.20790</td>\n",
       "    </tr>\n",
       "    <tr>\n",
       "      <th>...</th>\n",
       "      <td>...</td>\n",
       "      <td>...</td>\n",
       "    </tr>\n",
       "    <tr>\n",
       "      <th>995</th>\n",
       "      <td>55</td>\n",
       "      <td>121.25410</td>\n",
       "    </tr>\n",
       "    <tr>\n",
       "      <th>996</th>\n",
       "      <td>88</td>\n",
       "      <td>194.00656</td>\n",
       "    </tr>\n",
       "    <tr>\n",
       "      <th>997</th>\n",
       "      <td>50</td>\n",
       "      <td>110.23100</td>\n",
       "    </tr>\n",
       "    <tr>\n",
       "      <th>998</th>\n",
       "      <td>43</td>\n",
       "      <td>94.79866</td>\n",
       "    </tr>\n",
       "    <tr>\n",
       "      <th>999</th>\n",
       "      <td>51</td>\n",
       "      <td>112.43562</td>\n",
       "    </tr>\n",
       "  </tbody>\n",
       "</table>\n",
       "<p>1000 rows × 2 columns</p>\n",
       "</div>"
      ],
      "text/plain": [
       "     kilos     libras\n",
       "0       27   59.52474\n",
       "1       75  165.34650\n",
       "2       60  132.27720\n",
       "3       87  191.80194\n",
       "4       45   99.20790\n",
       "..     ...        ...\n",
       "995     55  121.25410\n",
       "996     88  194.00656\n",
       "997     50  110.23100\n",
       "998     43   94.79866\n",
       "999     51  112.43562\n",
       "\n",
       "[1000 rows x 2 columns]"
      ]
     },
     "execution_count": 4,
     "metadata": {},
     "output_type": "execute_result"
    }
   ],
   "source": [
    "datos = {\n",
    "    \"kilos\": kilos,\n",
    "    \"libras\": libras\n",
    "}\n",
    "df = pd.DataFrame(datos)\n",
    "df"
   ]
  },
  {
   "cell_type": "code",
   "execution_count": 5,
   "id": "3ebfae7c-cf1f-4daf-a590-3833e3a992e0",
   "metadata": {},
   "outputs": [],
   "source": [
    "x = df['kilos'].values\n",
    "y = df['libras'].values"
   ]
  },
  {
   "cell_type": "code",
   "execution_count": 6,
   "id": "fed2c302-3605-4269-9dcc-f25e70e0e88e",
   "metadata": {},
   "outputs": [
    {
     "data": {
      "text/plain": [
       "((800,), (200,), (800,), (200,))"
      ]
     },
     "execution_count": 6,
     "metadata": {},
     "output_type": "execute_result"
    }
   ],
   "source": [
    "# Separar datos de entrenamiento\n",
    "x_train, x_valid, y_train, y_valid  = train_test_split(x, y, test_size=0.2)\n",
    "\n",
    "x_train.shape, x_valid.shape, y_train.shape, y_valid.shape"
   ]
  },
  {
   "cell_type": "markdown",
   "id": "702c097a-324c-4884-9e2e-c0d8c9df6de5",
   "metadata": {},
   "source": [
    "## ¿Se puede aplicar el Perceptron simple? \n",
    "### R: Si"
   ]
  },
  {
   "cell_type": "code",
   "execution_count": 8,
   "id": "b2d74a61-1031-42d2-b3b8-537080b93404",
   "metadata": {},
   "outputs": [
    {
     "name": "stderr",
     "output_type": "stream",
     "text": [
      "C:\\Users\\elsup\\anaconda3\\Lib\\site-packages\\keras\\src\\layers\\core\\dense.py:87: UserWarning: Do not pass an `input_shape`/`input_dim` argument to a layer. When using Sequential models, prefer using an `Input(shape)` object as the first layer in the model instead.\n",
      "  super().__init__(activity_regularizer=activity_regularizer, **kwargs)\n"
     ]
    }
   ],
   "source": [
    "# Crear las capas\n",
    "oculta1 = tf.keras.layers.Dense( units=3, input_shape=[1])\n",
    "oculta2 = tf.keras.layers.Dense( units=3 )\n",
    "salida = tf.keras.layers.Dense(units=1)\n",
    "\n",
    "# Crear modelo de keras\n",
    "modelo = tf.keras.Sequential([oculta1,oculta2,salida])"
   ]
  },
  {
   "cell_type": "code",
   "execution_count": 9,
   "id": "5805da02-57e7-4a6d-b4ca-ae259f78fdbd",
   "metadata": {},
   "outputs": [],
   "source": [
    "epochs = 5\n",
    "learning_rate = 0.05\n",
    "\n",
    "# Definir el tamaño del lote (batch size)\n",
    "batch_size = 32"
   ]
  },
  {
   "cell_type": "code",
   "execution_count": 10,
   "id": "858ae5c9-f3e4-440f-9ce6-1a49bce61889",
   "metadata": {},
   "outputs": [],
   "source": [
    "# Compilar el modelo\n",
    "modelo.compile(\n",
    "    optimizer = tf.keras.optimizers.Adam(learning_rate),\n",
    "    loss = 'mean_squared_error'\n",
    ")"
   ]
  },
  {
   "cell_type": "code",
   "execution_count": 11,
   "id": "1569c65b-5f1f-4aee-8a23-b2a23bcfbc2e",
   "metadata": {},
   "outputs": [],
   "source": [
    "\n",
    "historial = modelo.fit(x_train, y_train, epochs = epochs, verbose=False)"
   ]
  },
  {
   "cell_type": "code",
   "execution_count": 12,
   "id": "7d578ad2-a667-480f-9120-d3e11dac4263",
   "metadata": {},
   "outputs": [
    {
     "data": {
      "text/plain": [
       "[<matplotlib.lines.Line2D at 0x1dca82ae210>]"
      ]
     },
     "execution_count": 12,
     "metadata": {},
     "output_type": "execute_result"
    },
    {
     "data": {
      "image/png": "[encoded data removed]",
      "text/plain": [
       "<Figure size 640x480 with 1 Axes>"
      ]
     },
     "metadata": {},
     "output_type": "display_data"
    }
   ],
   "source": [
    "# Mostrar el resultado de la función de pérdida\n",
    "import matplotlib.pyplot as plt\n",
    "plt.xlabel(\"No. Epochs\")\n",
    "plt.ylabel(\"Magnitud de pérdida\")\n",
    "plt.plot(historial.history['loss'])"
   ]
  },
  {
   "cell_type": "code",
   "execution_count": 30,
   "id": "32a6f895-5fc0-4764-a949-02bbe041664b",
   "metadata": {},
   "outputs": [
    {
     "name": "stdout",
     "output_type": "stream",
     "text": [
      "\u001b[1m1/1\u001b[0m \u001b[32m━━━━━━━━━━━━━━━━━━━━\u001b[0m\u001b[37m\u001b[0m \u001b[1m0s\u001b[0m 75ms/step\n",
      "100 es equivalente a 220.3787384033203 Libras\n"
     ]
    }
   ],
   "source": [
    "kilos = np.array([100])\n",
    "resultado = modelo.predict(kilos)\n",
    "print(f\"{kilos[0]} es equivalente a {resultado[0][0]} Libras\")"
   ]
  },
  {
   "cell_type": "code",
   "execution_count": 36,
   "id": "a1d87ca9-0515-475a-838b-f9d92399c92a",
   "metadata": {},
   "outputs": [],
   "source": [
    "modelo.save(\"modelo.keras\")"
   ]
  }
 ],
 "metadata": {
  "kernelspec": {
   "display_name": "Python [conda env:base] *",
   "language": "python",
   "name": "conda-base-py"
  },
  "language_info": {
   "codemirror_mode": {
    "name": "ipython",
    "version": 3
   },
   "file_extension": ".py",
   "mimetype": "text/x-python",
   "name": "python",
   "nbconvert_exporter": "python",
   "pygments_lexer": "ipython3",
   "version": "3.12.7"
  }
 },
 "nbformat": 4,
 "nbformat_minor": 5
}
