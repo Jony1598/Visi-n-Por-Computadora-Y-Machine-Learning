{
 "cells": [
  {
   "cell_type": "markdown",
   "id": "00e7e411-29ea-4ee6-a54e-8fb61c022e76",
   "metadata": {},
   "source": [
    "# Limpieza de datos\n",
    "\n",
    "Realice las operaciones y describa lo que va encontrando"
   ]
  },
  {
   "cell_type": "markdown",
   "id": "fc481f49-3324-4369-8038-a7b5b93aac7d",
   "metadata": {},
   "source": [
    "\n",
    "## 1. Vista rápida al dataset\n"
   ]
  },
  {
   "cell_type": "code",
   "execution_count": 3,
   "id": "b1fa2d45-ea07-4940-b76c-de21f1f4992d",
   "metadata": {},
   "outputs": [],
   "source": [
    "import pandas as pd\n",
    "import numpy as np\n",
    "import matplotlib.pyplot as plt\n",
    "import seaborn as sea"
   ]
  },
  {
   "cell_type": "code",
   "execution_count": 4,
   "id": "4b58d1ed-69b1-410c-ad4e-989869d29803",
   "metadata": {},
   "outputs": [
    {
     "data": {
      "text/html": [
       "<div>\n",
       "<style scoped>\n",
       "    .dataframe tbody tr th:only-of-type {\n",
       "        vertical-align: middle;\n",
       "    }\n",
       "\n",
       "    .dataframe tbody tr th {\n",
       "        vertical-align: top;\n",
       "    }\n",
       "\n",
       "    .dataframe thead th {\n",
       "        text-align: right;\n",
       "    }\n",
       "</style>\n",
       "<table border=\"1\" class=\"dataframe\">\n",
       "  <thead>\n",
       "    <tr style=\"text-align: right;\">\n",
       "      <th></th>\n",
       "      <th>name</th>\n",
       "      <th>platform</th>\n",
       "      <th>release_date</th>\n",
       "      <th>summary</th>\n",
       "      <th>meta_score</th>\n",
       "      <th>user_review</th>\n",
       "    </tr>\n",
       "  </thead>\n",
       "  <tbody>\n",
       "    <tr>\n",
       "      <th>0</th>\n",
       "      <td>The Legend of Zelda: Ocarina of Time</td>\n",
       "      <td>Nintendo 64</td>\n",
       "      <td>November 23, 1998</td>\n",
       "      <td>As a young boy, Link is tricked by Ganondorf, ...</td>\n",
       "      <td>99</td>\n",
       "      <td>9.1</td>\n",
       "    </tr>\n",
       "    <tr>\n",
       "      <th>1</th>\n",
       "      <td>Tony Hawk's Pro Skater 2</td>\n",
       "      <td>PlayStation</td>\n",
       "      <td>September 20, 2000</td>\n",
       "      <td>As most major publishers' development efforts ...</td>\n",
       "      <td>98</td>\n",
       "      <td>7.4</td>\n",
       "    </tr>\n",
       "    <tr>\n",
       "      <th>2</th>\n",
       "      <td>Grand Theft Auto IV</td>\n",
       "      <td>PlayStation 3</td>\n",
       "      <td>April 29, 2008</td>\n",
       "      <td>[Metacritic's 2008 PS3 Game of the Year; Also ...</td>\n",
       "      <td>98</td>\n",
       "      <td>7.7</td>\n",
       "    </tr>\n",
       "    <tr>\n",
       "      <th>3</th>\n",
       "      <td>SoulCalibur</td>\n",
       "      <td>Dreamcast</td>\n",
       "      <td>September 8, 1999</td>\n",
       "      <td>This is a tale of souls and swords, transcendi...</td>\n",
       "      <td>98</td>\n",
       "      <td>8.4</td>\n",
       "    </tr>\n",
       "    <tr>\n",
       "      <th>4</th>\n",
       "      <td>Grand Theft Auto IV</td>\n",
       "      <td>Xbox 360</td>\n",
       "      <td>April 29, 2008</td>\n",
       "      <td>[Metacritic's 2008 Xbox 360 Game of the Year; ...</td>\n",
       "      <td>98</td>\n",
       "      <td>7.9</td>\n",
       "    </tr>\n",
       "  </tbody>\n",
       "</table>\n",
       "</div>"
      ],
      "text/plain": [
       "                                   name        platform        release_date  \\\n",
       "0  The Legend of Zelda: Ocarina of Time     Nintendo 64   November 23, 1998   \n",
       "1              Tony Hawk's Pro Skater 2     PlayStation  September 20, 2000   \n",
       "2                   Grand Theft Auto IV   PlayStation 3      April 29, 2008   \n",
       "3                           SoulCalibur       Dreamcast   September 8, 1999   \n",
       "4                   Grand Theft Auto IV        Xbox 360      April 29, 2008   \n",
       "\n",
       "                                             summary  meta_score user_review  \n",
       "0  As a young boy, Link is tricked by Ganondorf, ...          99         9.1  \n",
       "1  As most major publishers' development efforts ...          98         7.4  \n",
       "2  [Metacritic's 2008 PS3 Game of the Year; Also ...          98         7.7  \n",
       "3  This is a tale of souls and swords, transcendi...          98         8.4  \n",
       "4  [Metacritic's 2008 Xbox 360 Game of the Year; ...          98         7.9  "
      ]
     },
     "execution_count": 4,
     "metadata": {},
     "output_type": "execute_result"
    }
   ],
   "source": [
    "df = pd.read_csv('dataset_videojuegos.csv')\n",
    "df.head()"
   ]
  },
  {
   "cell_type": "code",
   "execution_count": 5,
   "id": "73893540-821a-4562-bc9b-e4490659b199",
   "metadata": {},
   "outputs": [
    {
     "name": "stdout",
     "output_type": "stream",
     "text": [
      "<class 'pandas.core.frame.DataFrame'>\n",
      "RangeIndex: 18800 entries, 0 to 18799\n",
      "Data columns (total 6 columns):\n",
      " #   Column        Non-Null Count  Dtype \n",
      "---  ------        --------------  ----- \n",
      " 0   name          18800 non-null  object\n",
      " 1   platform      18800 non-null  object\n",
      " 2   release_date  18800 non-null  object\n",
      " 3   summary       18686 non-null  object\n",
      " 4   meta_score    18800 non-null  int64 \n",
      " 5   user_review   18800 non-null  object\n",
      "dtypes: int64(1), object(5)\n",
      "memory usage: 881.4+ KB\n"
     ]
    }
   ],
   "source": [
    "df.info()"
   ]
  },
  {
   "cell_type": "markdown",
   "id": "880a1962-771e-4096-8645-93cd4dea3ad6",
   "metadata": {},
   "source": [
    "### Se analizo que la columna **'user_review'** es una columna float y esta como object\n",
    "\n",
    "#### Asi que se cambiara el tipo de columna"
   ]
  },
  {
   "cell_type": "code",
   "execution_count": 7,
   "id": "ae990259-b76f-4031-9641-201ab6a8d52d",
   "metadata": {},
   "outputs": [],
   "source": [
    "#df['user_review'] = data['user_review'].astype(float)"
   ]
  },
  {
   "cell_type": "markdown",
   "id": "de14f632-5623-4cc1-9849-4e1e6a96b86d",
   "metadata": {},
   "source": [
    "#### Aqui me di cuenta que no todos los valores son numericos\n",
    "\n",
    "#### Asi que hare una consullta para ver los valores no numericos"
   ]
  },
  {
   "cell_type": "code",
   "execution_count": 9,
   "id": "4097d0ef-5248-4f30-9e47-41922fa90a79",
   "metadata": {},
   "outputs": [
    {
     "name": "stdout",
     "output_type": "stream",
     "text": [
      "['tbd']\n"
     ]
    }
   ],
   "source": [
    "# Filtrar los valores que no son numéricos\n",
    "no_numericos = df[~df[\"user_review\"].str.replace('.', '', 1).str.isnumeric()]\n",
    "\n",
    "# Mostrar los valores problemáticos\n",
    "print(no_numericos[\"user_review\"].unique())\n"
   ]
  },
  {
   "cell_type": "markdown",
   "id": "fd2b0eb2-e8c5-4d8e-a501-7c525b899872",
   "metadata": {},
   "source": [
    "#### Solo **'tbd'** no es numerico, asi que cambaire todos los tbd por Nan"
   ]
  },
  {
   "cell_type": "code",
   "execution_count": 11,
   "id": "bfd74ee5-bf5d-468b-a6e3-66188135bcd6",
   "metadata": {},
   "outputs": [
    {
     "name": "stdout",
     "output_type": "stream",
     "text": [
      "['9.1' '7.4' '7.7' '8.4' '7.9' '8.0' '8.3' '6.2' '8.7' '7.5' '8.8' '8.5'\n",
      " '8.6' '8.9' '8.2' '9.2' '7.8' '9.0' '9.3' '8.1' '6.8' '7.6' '6.9' '6.6'\n",
      " '7.3' '7.2' '9.4' '5.7' '6.0' '5.8' '7.1' '3.3' '5.0' '5.5' '6.5' '5.9'\n",
      " '6.7' '3.8' '6.4' '7.0' '6.3' '4.9' 0.0 '5.3' '3.5' '4.7' '6.1' '4.8'\n",
      " '4.1' '5.6' '4.4' '5.4' '4.6' '3.1' '5.2' '4.3' '1.8' '4.5' '5.1' '4.2'\n",
      " '4.0' '9.7' '3.2' '2.9' '2.1' '2.4' '3.4' '3.0' '3.7' '2.2' '2.6' '2.7'\n",
      " '2.5' '2.8' '3.9' '2.0' '9.6' '1.5' '3.6' '1.4' '1.2' '0.9' '1.9' '1.1'\n",
      " '1.7' '0.8' '1.0' '0.6' '2.3' '0.5' '1.6' '0.2' '0.7' '1.3']\n"
     ]
    }
   ],
   "source": [
    "df[\"user_review\"] = df[\"user_review\"].replace(\"tbd\", 0.0)\n",
    "\n",
    "print(df[\"user_review\"].unique())  # Debería mostrar NaN en lugar de \"tbd\""
   ]
  },
  {
   "cell_type": "markdown",
   "id": "26bf2b39-58f3-4879-8407-c189e1c253ae",
   "metadata": {},
   "source": [
    "#### Ahora si camabiar el tipo de columna a float"
   ]
  },
  {
   "cell_type": "code",
   "execution_count": 13,
   "id": "1cfd1caf-c874-4cc3-b016-f9cf86440480",
   "metadata": {},
   "outputs": [
    {
     "name": "stdout",
     "output_type": "stream",
     "text": [
      "<class 'pandas.core.frame.DataFrame'>\n",
      "RangeIndex: 18800 entries, 0 to 18799\n",
      "Data columns (total 6 columns):\n",
      " #   Column        Non-Null Count  Dtype  \n",
      "---  ------        --------------  -----  \n",
      " 0   name          18800 non-null  object \n",
      " 1   platform      18800 non-null  object \n",
      " 2   release_date  18800 non-null  object \n",
      " 3   summary       18686 non-null  object \n",
      " 4   meta_score    18800 non-null  int64  \n",
      " 5   user_review   18800 non-null  float64\n",
      "dtypes: float64(1), int64(1), object(4)\n",
      "memory usage: 881.4+ KB\n"
     ]
    }
   ],
   "source": [
    "df['user_review'] = df['user_review'].astype(float)\n",
    "df.info()"
   ]
  },
  {
   "cell_type": "markdown",
   "id": "54ec2643-72e6-45d0-bc97-8c79e6f0effe",
   "metadata": {},
   "source": [
    "## 2. Datos duplicados"
   ]
  },
  {
   "cell_type": "code",
   "execution_count": 15,
   "id": "1e55d913-7b53-4aac-b4d1-aba7219f2e27",
   "metadata": {},
   "outputs": [
    {
     "data": {
      "text/plain": [
       "0"
      ]
     },
     "execution_count": 15,
     "metadata": {},
     "output_type": "execute_result"
    }
   ],
   "source": [
    "# Identificar las filas duplicadas\n",
    "duplicadas = df.duplicated().sum()\n",
    "duplicadas"
   ]
  },
  {
   "cell_type": "markdown",
   "id": "cbb22972-75dc-48db-b118-8e651292320f",
   "metadata": {},
   "source": [
    "### No hay ningun registro duplicado"
   ]
  },
  {
   "cell_type": "markdown",
   "id": "03419878-6bf1-4628-972b-31f40880d3fb",
   "metadata": {},
   "source": [
    "## 3. Datos nulos\n",
    "Muestre por columnas la cantidad de datos nulos, implemente una estrategia para no dejar ningun dato nulo, no elimine ningún dato.\n"
   ]
  },
  {
   "cell_type": "code",
   "execution_count": 18,
   "id": "e5281655-1761-41f2-809f-61a2a82ea5db",
   "metadata": {},
   "outputs": [
    {
     "data": {
      "text/plain": [
       "name              0\n",
       "platform          0\n",
       "release_date      0\n",
       "summary         114\n",
       "meta_score        0\n",
       "user_review       0\n",
       "dtype: int64"
      ]
     },
     "execution_count": 18,
     "metadata": {},
     "output_type": "execute_result"
    }
   ],
   "source": [
    "# Contar la data faltante (nulos)\n",
    "df.isnull().sum()"
   ]
  },
  {
   "cell_type": "markdown",
   "id": "7e524d28-4033-4737-a0ea-5afb09b038b0",
   "metadata": {},
   "source": [
    "#### Podemos ver que summary tiene 114 datos nulos"
   ]
  },
  {
   "cell_type": "code",
   "execution_count": 20,
   "id": "bfc01bdf-fae4-4c88-b11c-2e404742649b",
   "metadata": {},
   "outputs": [
    {
     "name": "stdout",
     "output_type": "stream",
     "text": [
      "Filas faltantes en 'summary': 114. porcentaje: 0.61%\n"
     ]
    }
   ],
   "source": [
    "for col in df.columns:\n",
    "    porcentaje = (df[col].isnull().sum() / len(df)) * 100\n",
    "    if porcentaje > 0: #Filtra solo los que tengan valores faltantes\n",
    "        print(f\"Filas faltantes en '{col}': {df[col].isnull().sum()}. porcentaje: {porcentaje:.2f}%\")"
   ]
  },
  {
   "cell_type": "markdown",
   "id": "d80deaeb-326a-4dc6-8b44-7148add9f03e",
   "metadata": {},
   "source": [
    "#### Como es poco porcentaje de filas se puede eliminar los datos nulos de summary "
   ]
  },
  {
   "cell_type": "code",
   "execution_count": 22,
   "id": "1d54fc40-0e1e-48a4-97f6-cf82a9a53188",
   "metadata": {},
   "outputs": [
    {
     "data": {
      "text/plain": [
       "name            0\n",
       "platform        0\n",
       "release_date    0\n",
       "summary         0\n",
       "meta_score      0\n",
       "user_review     0\n",
       "dtype: int64"
      ]
     },
     "execution_count": 22,
     "metadata": {},
     "output_type": "execute_result"
    }
   ],
   "source": [
    "df.dropna(subset = 'summary', inplace=True)\n",
    "df.dropna(subset = 'summary').isnull().sum()"
   ]
  },
  {
   "cell_type": "code",
   "execution_count": null,
   "id": "15c67694-9983-42c5-8caa-e25c576fd637",
   "metadata": {},
   "outputs": [],
   "source": [
    "df.info()"
   ]
  },
  {
   "cell_type": "markdown",
   "id": "9d1d1d85-e735-41af-a295-4231280c8a31",
   "metadata": {},
   "source": [
    "## 4. Verifique outlaiers de cada fila"
   ]
  },
  {
   "cell_type": "code",
   "execution_count": 25,
   "id": "c2fd96dc-714c-4a7a-aab3-a220147a2801",
   "metadata": {},
   "outputs": [
    {
     "name": "stdout",
     "output_type": "stream",
     "text": [
      "Index(['meta_score', 'user_review'], dtype='object')\n",
      "Index(['name', 'platform', 'release_date', 'summary'], dtype='object')\n"
     ]
    }
   ],
   "source": [
    "# Obtener las columnas con valores numericos\n",
    "colsnum = df._get_numeric_data().columns\n",
    "print(colsnum)\n",
    "# Obtener las columnas con valores categoricos\n",
    "cols_categoricos = df.select_dtypes(include=['object']).columns\n",
    "print(cols_categoricos)"
   ]
  },
  {
   "cell_type": "markdown",
   "id": "d2a0fbea-43d5-4faa-b696-cbf41c2fb907",
   "metadata": {},
   "source": [
    "#### Se ve que solo hay dos datos numericos y varios datos categoricos"
   ]
  },
  {
   "cell_type": "markdown",
   "id": "4093d435-76e3-49ea-beb3-b5ff8db8f51c",
   "metadata": {},
   "source": [
    "## 4.1 Datos numéricos"
   ]
  },
  {
   "cell_type": "code",
   "execution_count": 28,
   "id": "9e707569-8a29-41d5-a652-27d8aef55b9c",
   "metadata": {},
   "outputs": [
    {
     "data": {
      "image/png": "[encoded data removed]",
      "text/plain": [
       "<Figure size 640x480 with 1 Axes>"
      ]
     },
     "metadata": {},
     "output_type": "display_data"
    }
   ],
   "source": [
    "plt.boxplot(df['meta_score'])\n",
    "plt.show()"
   ]
  },
  {
   "cell_type": "markdown",
   "id": "372750a0-9e00-4c03-a076-76ec3287b36f",
   "metadata": {},
   "source": [
    "#### Podemos ver que a pesar de que los valores se concentran mas entre **65-80** los valores menores como **20-40**\n",
    "#### pueden ser ciertos porque no son negativos"
   ]
  },
  {
   "cell_type": "code",
   "execution_count": 30,
   "id": "f8bcd357-c0e6-4e30-8c11-ba5875fbf663",
   "metadata": {},
   "outputs": [
    {
     "data": {
      "image/png": "[encoded data removed]",
      "text/plain": [
       "<Figure size 640x480 with 1 Axes>"
      ]
     },
     "metadata": {},
     "output_type": "display_data"
    }
   ],
   "source": [
    "plt.boxplot(df['user_review'])\n",
    "plt.show()"
   ]
  },
  {
   "cell_type": "markdown",
   "id": "6e9fe6d4-b9a7-4a92-8f90-1bbe938a7852",
   "metadata": {},
   "source": [
    "#### Como tampoco hay datos negativos, no es necesario eliminar los datos"
   ]
  },
  {
   "cell_type": "markdown",
   "id": "130c11d0-6374-4656-99c6-1403099f22e8",
   "metadata": {},
   "source": [
    "## 4.2 Datos categóricos"
   ]
  },
  {
   "cell_type": "code",
   "execution_count": 32,
   "id": "50547681-c47f-4a7e-8adf-097e4ffa183e",
   "metadata": {},
   "outputs": [
    {
     "name": "stdout",
     "output_type": "stream",
     "text": [
      "Columna name: ['The Legend of Zelda: Ocarina of Time' \"Tony Hawk's Pro Skater 2\"\n",
      " 'Grand Theft Auto IV' ... 'Drake of the 99 Dragons'\n",
      " 'Afro Samurai 2: Revenge of Kuma Volume One'\n",
      " 'Infestation: Survivor Stories (The War Z)'] 12159 subniveles\n",
      "Columna platform: [' Nintendo 64' ' PlayStation' ' PlayStation 3' ' Dreamcast' ' Xbox 360'\n",
      " ' Wii' ' Xbox One' ' PC' ' Switch' ' PlayStation 2' ' PlayStation 4'\n",
      " ' GameCube' ' Xbox' ' Wii U' ' Game Boy Advance' ' 3DS' ' Xbox Series X'\n",
      " ' DS' ' PlayStation Vita' ' PlayStation 5' ' PSP' ' Stadia'] 22 subniveles\n",
      "Columna release_date: ['November 23, 1998' 'September 20, 2000' 'April 29, 2008' ...\n",
      " 'July 5, 2007' 'April 25, 2001' 'July 6, 2006'] 4522 subniveles\n",
      "Columna summary: ['As a young boy, Link is tricked by Ganondorf, the King of the Gerudo Thieves. The evil human uses Link to gain access to the Sacred Realm, where he places his tainted hands on Triforce and transforms the beautiful Hyrulean landscape into a barren wasteland. Link is determined to fix the problems he helped to create, so with the help of Rauru he travels through time gathering the powers of the Seven Sages.'\n",
      " \"As most major publishers' development efforts shift to any number of next-generation platforms, Tony Hawk 2 will likely stand as one of the last truly fantastic games to be released on the PlayStation.\"\n",
      " '[Metacritic\\'s 2008 PS3 Game of the Year; Also known as \"GTA IV\"] What does the American Dream mean today? For Niko Belic, fresh off the boat from Europe. It\\'s the hope he can escape his past. For his cousin, Roman, it is the vision that together they can find fortune in Liberty City, gateway to the land of opportunity. As they slip into debt and are dragged into a criminal underworld by a series of shysters, thieves and sociopaths, they discover that the reality is very different from the dream in a city that worships money and status, and is heaven for those who have them an a living nightmare for those who don\\'t. [Rockstar Games]'\n",
      " ...\n",
      " \"Drake is out for revenge in a supernatural Hong Kong world. You'll join Drake in 25 intense missions, as he battles ruthless villains and female assassins with an array of firearms, short and long blade weapons, and thrown melee weapons. Use Drake's power and agility to slow down the action, fire guns in any direction, and run and backflip off of walls. When you become injured, you can feed on the souls of the dead to replenish your health.\"\n",
      " 'Head out on a journey of redemption, driven by bitter-sweet revenge. The saga of Afro Samurai continues but this time follows the path of Kuma, one of Afro’s closest childhood friends.'\n",
      " '(Formerly known as \"The War Z\") It has been 5 years since the outbreak, giving rise to a post-apocalyptic nightmare with 95% of the human race wiped out. To survive, you\\'ll require food, weapons, and other supplies. Some of you will scavenge as you negotiate the terrain, others will be forced to fight for survival as they encounter zombies and other players. Every decision has an effect on whether you live or how quickly you meet your death.'] 14647 subniveles\n"
     ]
    }
   ],
   "source": [
    "for col in cols_categoricos:\n",
    "    print(f\"Columna {col}: {df[col].unique()} {df[col].nunique()} subniveles\")\n"
   ]
  },
  {
   "cell_type": "markdown",
   "id": "a6294c29-2ac6-44c2-96ae-b73118623164",
   "metadata": {},
   "source": [
    "#### Ahora Graficamos"
   ]
  },
  {
   "cell_type": "code",
   "execution_count": null,
   "id": "e3ec2327-8bde-4e09-904b-5e3a5d6e3b3c",
   "metadata": {},
   "outputs": [],
   "source": [
    "# Graficar los subniveles de cada variable categórica\n",
    "fig, ax = plt.subplots(nrows=len(cols_categoricos), ncols = 1, figsize =(10,30))\n",
    "fig.subplots_adjust(hspace = 0.8)\n",
    "\n",
    "# Graficar\n",
    "for i,col in enumerate(cols_categoricos):\n",
    "    sea.countplot(x= col, data=df, ax=ax[i])\n",
    "    ax[i].set_title(col)\n",
    "    ax[i].set_xticklabels(ax[i].get_xticklabels(), rotation = 20, size = 6)\n"
   ]
  },
  {
   "cell_type": "markdown",
   "id": "a3e1ffbb-ea6b-4067-9b74-55cf9bde0c98",
   "metadata": {},
   "source": [
    "#### Podemos ver que no hay anomalias en los datos"
   ]
  },
  {
   "cell_type": "code",
   "execution_count": null,
   "id": "2d376567-b235-4036-adad-52a24c1693d8",
   "metadata": {},
   "outputs": [],
   "source": [
    "# Guardar los datos en un dataset nuevo y limpio\n",
    "df.to_csv(\"dataset_videojuegos_clean.csv\")"
   ]
  }
 ],
 "metadata": {
  "kernelspec": {
   "display_name": "Python [conda env:base] *",
   "language": "python",
   "name": "conda-base-py"
  },
  "language_info": {
   "codemirror_mode": {
    "name": "ipython",
    "version": 3
   },
   "file_extension": ".py",
   "mimetype": "text/x-python",
   "name": "python",
   "nbconvert_exporter": "python",
   "pygments_lexer": "ipython3",
   "version": "3.12.7"
  }
 },
 "nbformat": 4,
 "nbformat_minor": 5
}
