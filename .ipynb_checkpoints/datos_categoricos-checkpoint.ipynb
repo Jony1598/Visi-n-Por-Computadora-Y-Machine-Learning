{
 "cells": [
  {
   "cell_type": "markdown",
   "metadata": {},
   "source": [
    "# Datos (categóricos)\n",
    "\n"
   ]
  },
  {
   "cell_type": "code",
   "execution_count": 8,
   "metadata": {},
   "outputs": [],
   "source": [
    "import pandas as pd\n",
    "\n",
    "datos = {\"nombre\" : [\"Mariana\", \"Ana\", \"Elsa\", \"Gustavo\",\n",
    "                     \"Pedro\", \"Raúl\", \"Carlos\", \"José\", \"Luis\"],\n",
    "         \n",
    "         \"saldo\" : [10000.00, 8000.00, 9000.00, 2000.00,\n",
    "                    2100.00, 12000.00, 5000.00, 10000.00, 200.00],\n",
    "         \n",
    "         \"pais\" : [\"Argentina\", \"Bolivia\", \"Chile\", \"Colombia\",\n",
    "                   \"Costa Rica\", \"Ecuador\", \"México\", \"Perú\", \"Perú\"]}\n",
    "\n",
    "# Crear el dataframe\n",
    "\n",
    "# Observar que la columna pais es de tipo object, cambiarla por el tipo category\n",
    "\n"
   ]
  },
  {
   "cell_type": "markdown",
   "metadata": {},
   "source": [
    "#  INAPROPIADA Codificación con Reemplazo"
   ]
  },
  {
   "cell_type": "code",
   "execution_count": 10,
   "metadata": {},
   "outputs": [],
   "source": [
    "# Obtener una copia de los datos\n",
    "\n",
    "\n"
   ]
  },
  {
   "cell_type": "markdown",
   "metadata": {},
   "source": [
    "# Codificación de Categorías One-hot"
   ]
  },
  {
   "cell_type": "code",
   "execution_count": 14,
   "metadata": {},
   "outputs": [],
   "source": [
    "# Importar de la librería sklearn.preprocessing el módulo OneHotEncoder\n",
    "\n",
    "\n"
   ]
  },
  {
   "cell_type": "code",
   "execution_count": null,
   "metadata": {},
   "outputs": [],
   "source": []
  },
  {
   "cell_type": "markdown",
   "metadata": {},
   "source": [
    "<br> <br> <br> <br> <br> <br> <br> <br> <br> <br> <br> <br> <br> <br> <br> <br> <br> <br> <br> <br> <br> <br> <br> <br> <br>"
   ]
  }
 ],
 "metadata": {
  "kernelspec": {
   "display_name": "Python 3 (ipykernel)",
   "language": "python",
   "name": "python3"
  },
  "language_info": {
   "codemirror_mode": {
    "name": "ipython",
    "version": 3
   },
   "file_extension": ".py",
   "mimetype": "text/x-python",
   "name": "python",
   "nbconvert_exporter": "python",
   "pygments_lexer": "ipython3",
   "version": "3.12.7"
  }
 },
 "nbformat": 4,
 "nbformat_minor": 4
}
