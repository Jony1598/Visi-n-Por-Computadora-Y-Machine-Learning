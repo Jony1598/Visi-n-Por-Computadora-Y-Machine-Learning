{
 "cells": [
  {
   "cell_type": "markdown",
   "id": "36b1c679-7015-4710-a51d-377b98f31046",
   "metadata": {},
   "source": [
    "## Configuración de PANDAS y su importación"
   ]
  },
  {
   "cell_type": "code",
   "execution_count": 3,
   "id": "bfae97bd-c660-4a94-a8ce-cae155e35cea",
   "metadata": {},
   "outputs": [],
   "source": [
    "# Instalar pandas\n",
    "#!pip install pandas\n",
    "import pandas as pd"
   ]
  },
  {
   "cell_type": "markdown",
   "id": "b38ef0b9-08eb-4716-9ff2-3bd72e6ca3f6",
   "metadata": {},
   "source": [
    "### Crear una serie a partir de una lista"
   ]
  },
  {
   "cell_type": "code",
   "execution_count": 12,
   "id": "1cb97801-7a33-4791-8fcb-7633fc1383ea",
   "metadata": {},
   "outputs": [],
   "source": [
    "carros = ['Challenger', 'Toyota', 'Mazda', 'KIA', 'Mitsubishi', 'Ferrari']"
   ]
  },
  {
   "cell_type": "code",
   "execution_count": 14,
   "id": "11cbee85-d1c8-48a1-9812-d4feab1e5dd2",
   "metadata": {},
   "outputs": [
    {
     "data": {
      "text/plain": [
       "0    Challenger\n",
       "1        Toyota\n",
       "2         Mazda\n",
       "3           KIA\n",
       "4    Mitsubishi\n",
       "5       Ferrari\n",
       "dtype: object"
      ]
     },
     "execution_count": 14,
     "metadata": {},
     "output_type": "execute_result"
    }
   ],
   "source": [
    "# Crear una serie\n",
    "pd.Series(carros)"
   ]
  },
  {
   "cell_type": "markdown",
   "id": "be207521-62f3-4431-b41a-2b654dfd648f",
   "metadata": {},
   "source": [
    "### Crear un DataFrame a partir de unna lista de diccionarios (Json)"
   ]
  },
  {
   "cell_type": "code",
   "execution_count": 22,
   "id": "5304445e-16ed-4e4a-874b-d5445feb604b",
   "metadata": {},
   "outputs": [],
   "source": [
    "datos = [\n",
    "    {\"nombre\": 'Jetta Variant', \"Motor\": 'Motor 4.0 Turbo', \"Year\": 2020, \"Kilometraje\": 44410.0, \"Cero_Km\": False, \"Valor\": 120000},\n",
    "    {\"nombre\": 'Camaro', \"Motor\": 'Motor 4.54 LS', \"Year\": 2022, \"Kilometraje\": 10410.0, \"Cero_Km\": False, \"Valor\": 480000},\n",
    "    {\"nombre\": 'Challenger', \"Motor\": 'Motor 4.3 Turbo', \"Year\": 2025, \"Kilometraje\": 0.0, \"Cero_Km\": True, \"Valor\": 680000},\n",
    "    {\"nombre\": 'Audi 8 Spider', \"Motor\": 'Motor 8.0', \"Year\": 2032, \"Kilometraje\": 0.0, \"Cero_Km\": True, \"Valor\": 4450000},\n",
    "]"
   ]
  },
  {
   "cell_type": "code",
   "execution_count": 24,
   "id": "040b31cc-ef50-4d19-ad3b-e1a3ec9040c2",
   "metadata": {},
   "outputs": [
    {
     "data": {
      "text/html": [
       "<div>\n",
       "<style scoped>\n",
       "    .dataframe tbody tr th:only-of-type {\n",
       "        vertical-align: middle;\n",
       "    }\n",
       "\n",
       "    .dataframe tbody tr th {\n",
       "        vertical-align: top;\n",
       "    }\n",
       "\n",
       "    .dataframe thead th {\n",
       "        text-align: right;\n",
       "    }\n",
       "</style>\n",
       "<table border=\"1\" class=\"dataframe\">\n",
       "  <thead>\n",
       "    <tr style=\"text-align: right;\">\n",
       "      <th></th>\n",
       "      <th>nombre</th>\n",
       "      <th>Motor</th>\n",
       "      <th>Year</th>\n",
       "      <th>Kilometraje</th>\n",
       "      <th>Cero_Km</th>\n",
       "      <th>Valor</th>\n",
       "    </tr>\n",
       "  </thead>\n",
       "  <tbody>\n",
       "    <tr>\n",
       "      <th>0</th>\n",
       "      <td>Jetta Variant</td>\n",
       "      <td>Motor 4.0 Turbo</td>\n",
       "      <td>2020</td>\n",
       "      <td>44410.0</td>\n",
       "      <td>False</td>\n",
       "      <td>120000</td>\n",
       "    </tr>\n",
       "    <tr>\n",
       "      <th>1</th>\n",
       "      <td>Camaro</td>\n",
       "      <td>Motor 4.54 LS</td>\n",
       "      <td>2022</td>\n",
       "      <td>10410.0</td>\n",
       "      <td>False</td>\n",
       "      <td>480000</td>\n",
       "    </tr>\n",
       "    <tr>\n",
       "      <th>2</th>\n",
       "      <td>Challenger</td>\n",
       "      <td>Motor 4.3 Turbo</td>\n",
       "      <td>2025</td>\n",
       "      <td>0.0</td>\n",
       "      <td>True</td>\n",
       "      <td>680000</td>\n",
       "    </tr>\n",
       "    <tr>\n",
       "      <th>3</th>\n",
       "      <td>Audi 8 Spider</td>\n",
       "      <td>Motor 8.0</td>\n",
       "      <td>2032</td>\n",
       "      <td>0.0</td>\n",
       "      <td>True</td>\n",
       "      <td>4450000</td>\n",
       "    </tr>\n",
       "  </tbody>\n",
       "</table>\n",
       "</div>"
      ],
      "text/plain": [
       "          nombre            Motor  Year  Kilometraje  Cero_Km    Valor\n",
       "0  Jetta Variant  Motor 4.0 Turbo  2020      44410.0    False   120000\n",
       "1         Camaro    Motor 4.54 LS  2022      10410.0    False   480000\n",
       "2     Challenger  Motor 4.3 Turbo  2025          0.0     True   680000\n",
       "3  Audi 8 Spider        Motor 8.0  2032          0.0     True  4450000"
      ]
     },
     "execution_count": 24,
     "metadata": {},
     "output_type": "execute_result"
    }
   ],
   "source": [
    "dataset = pd.DataFrame(datos)\n",
    "dataset"
   ]
  },
  {
   "cell_type": "code",
   "execution_count": 26,
   "id": "474dd7d5-cf59-4ade-bff8-6d4432ced290",
   "metadata": {},
   "outputs": [
    {
     "data": {
      "text/plain": [
       "array(['nombre', 'Motor', 'Year', 'Kilometraje', 'Cero_Km', 'Valor'],\n",
       "      dtype=object)"
      ]
     },
     "execution_count": 26,
     "metadata": {},
     "output_type": "execute_result"
    }
   ],
   "source": [
    "# Nombre de las columnas\n",
    "dataset.columns.values"
   ]
  },
  {
   "cell_type": "code",
   "execution_count": 32,
   "id": "4b6dea2b-4eed-4c33-a097-65e2a572fd8f",
   "metadata": {},
   "outputs": [
    {
     "data": {
      "text/plain": [
       "array(['nombre', 'Motor', 'Year'], dtype=object)"
      ]
     },
     "execution_count": 32,
     "metadata": {},
     "output_type": "execute_result"
    }
   ],
   "source": [
    "# Mostrar las primeras 3 columnas\n",
    "dataset.columns.values[:3]"
   ]
  },
  {
   "cell_type": "code",
   "execution_count": 34,
   "id": "2aedb309-f974-4487-9ebe-628e790ac73e",
   "metadata": {},
   "outputs": [
    {
     "data": {
      "text/plain": [
       "'Valor'"
      ]
     },
     "execution_count": 34,
     "metadata": {},
     "output_type": "execute_result"
    }
   ],
   "source": [
    "# Mostrar la ultima columna\n",
    "dataset.columns.values[-1]"
   ]
  },
  {
   "cell_type": "markdown",
   "id": "ffec0811-731c-4eed-bbb3-c9f4a75a4aa4",
   "metadata": {},
   "source": [
    "### Cambair el orden en que se muetran las columnas\n"
   ]
  },
  {
   "cell_type": "code",
   "execution_count": 37,
   "id": "9fbf9f87-6c40-43e2-a138-589d400ab732",
   "metadata": {},
   "outputs": [
    {
     "data": {
      "text/html": [
       "<div>\n",
       "<style scoped>\n",
       "    .dataframe tbody tr th:only-of-type {\n",
       "        vertical-align: middle;\n",
       "    }\n",
       "\n",
       "    .dataframe tbody tr th {\n",
       "        vertical-align: top;\n",
       "    }\n",
       "\n",
       "    .dataframe thead th {\n",
       "        text-align: right;\n",
       "    }\n",
       "</style>\n",
       "<table border=\"1\" class=\"dataframe\">\n",
       "  <thead>\n",
       "    <tr style=\"text-align: right;\">\n",
       "      <th></th>\n",
       "      <th>nombre</th>\n",
       "      <th>Valor</th>\n",
       "      <th>Motor</th>\n",
       "      <th>Year</th>\n",
       "      <th>Kilometraje</th>\n",
       "      <th>Cero_Km</th>\n",
       "    </tr>\n",
       "  </thead>\n",
       "  <tbody>\n",
       "    <tr>\n",
       "      <th>0</th>\n",
       "      <td>Jetta Variant</td>\n",
       "      <td>120000</td>\n",
       "      <td>Motor 4.0 Turbo</td>\n",
       "      <td>2020</td>\n",
       "      <td>44410.0</td>\n",
       "      <td>False</td>\n",
       "    </tr>\n",
       "    <tr>\n",
       "      <th>1</th>\n",
       "      <td>Camaro</td>\n",
       "      <td>480000</td>\n",
       "      <td>Motor 4.54 LS</td>\n",
       "      <td>2022</td>\n",
       "      <td>10410.0</td>\n",
       "      <td>False</td>\n",
       "    </tr>\n",
       "    <tr>\n",
       "      <th>2</th>\n",
       "      <td>Challenger</td>\n",
       "      <td>680000</td>\n",
       "      <td>Motor 4.3 Turbo</td>\n",
       "      <td>2025</td>\n",
       "      <td>0.0</td>\n",
       "      <td>True</td>\n",
       "    </tr>\n",
       "    <tr>\n",
       "      <th>3</th>\n",
       "      <td>Audi 8 Spider</td>\n",
       "      <td>4450000</td>\n",
       "      <td>Motor 8.0</td>\n",
       "      <td>2032</td>\n",
       "      <td>0.0</td>\n",
       "      <td>True</td>\n",
       "    </tr>\n",
       "  </tbody>\n",
       "</table>\n",
       "</div>"
      ],
      "text/plain": [
       "          nombre    Valor            Motor  Year  Kilometraje  Cero_Km\n",
       "0  Jetta Variant   120000  Motor 4.0 Turbo  2020      44410.0    False\n",
       "1         Camaro   480000    Motor 4.54 LS  2022      10410.0    False\n",
       "2     Challenger   680000  Motor 4.3 Turbo  2025          0.0     True\n",
       "3  Audi 8 Spider  4450000        Motor 8.0  2032          0.0     True"
      ]
     },
     "execution_count": 37,
     "metadata": {},
     "output_type": "execute_result"
    }
   ],
   "source": [
    "dataset[['nombre', 'Valor','Motor', 'Year', 'Kilometraje', 'Cero_Km']]"
   ]
  },
  {
   "cell_type": "markdown",
   "id": "76581e4d-9d53-4850-82e6-02e7941fb575",
   "metadata": {},
   "source": [
    "### Cambiar el nombre de las columnas"
   ]
  },
  {
   "cell_type": "code",
   "execution_count": 48,
   "id": "e9dbbfc2-6615-4e1e-bd2f-d5af5a882aed",
   "metadata": {},
   "outputs": [
    {
     "data": {
      "text/html": [
       "<div>\n",
       "<style scoped>\n",
       "    .dataframe tbody tr th:only-of-type {\n",
       "        vertical-align: middle;\n",
       "    }\n",
       "\n",
       "    .dataframe tbody tr th {\n",
       "        vertical-align: top;\n",
       "    }\n",
       "\n",
       "    .dataframe thead th {\n",
       "        text-align: right;\n",
       "    }\n",
       "</style>\n",
       "<table border=\"1\" class=\"dataframe\">\n",
       "  <thead>\n",
       "    <tr style=\"text-align: right;\">\n",
       "      <th></th>\n",
       "      <th>Name</th>\n",
       "      <th>Engine</th>\n",
       "      <th>Year</th>\n",
       "      <th>Mileage</th>\n",
       "      <th>Zero_ml</th>\n",
       "      <th>Price</th>\n",
       "    </tr>\n",
       "  </thead>\n",
       "  <tbody>\n",
       "    <tr>\n",
       "      <th>0</th>\n",
       "      <td>Jetta Variant</td>\n",
       "      <td>Motor 4.0 Turbo</td>\n",
       "      <td>2020</td>\n",
       "      <td>44410.0</td>\n",
       "      <td>False</td>\n",
       "      <td>120000</td>\n",
       "    </tr>\n",
       "    <tr>\n",
       "      <th>1</th>\n",
       "      <td>Camaro</td>\n",
       "      <td>Motor 4.54 LS</td>\n",
       "      <td>2022</td>\n",
       "      <td>10410.0</td>\n",
       "      <td>False</td>\n",
       "      <td>480000</td>\n",
       "    </tr>\n",
       "    <tr>\n",
       "      <th>2</th>\n",
       "      <td>Challenger</td>\n",
       "      <td>Motor 4.3 Turbo</td>\n",
       "      <td>2025</td>\n",
       "      <td>0.0</td>\n",
       "      <td>True</td>\n",
       "      <td>680000</td>\n",
       "    </tr>\n",
       "    <tr>\n",
       "      <th>3</th>\n",
       "      <td>Audi 8 Spider</td>\n",
       "      <td>Motor 8.0</td>\n",
       "      <td>2032</td>\n",
       "      <td>0.0</td>\n",
       "      <td>True</td>\n",
       "      <td>4450000</td>\n",
       "    </tr>\n",
       "  </tbody>\n",
       "</table>\n",
       "</div>"
      ],
      "text/plain": [
       "            Name           Engine  Year  Mileage  Zero_ml    Price\n",
       "0  Jetta Variant  Motor 4.0 Turbo  2020  44410.0    False   120000\n",
       "1         Camaro    Motor 4.54 LS  2022  10410.0    False   480000\n",
       "2     Challenger  Motor 4.3 Turbo  2025      0.0     True   680000\n",
       "3  Audi 8 Spider        Motor 8.0  2032      0.0     True  4450000"
      ]
     },
     "execution_count": 48,
     "metadata": {},
     "output_type": "execute_result"
    }
   ],
   "source": [
    "dataset = dataset.rename(columns = {\n",
    "    \"nombre\": 'Name', \n",
    "    \"Motor\": 'Engine',\n",
    "    \"Year\": 'Year', \n",
    "    \"Kilometraje\": 'Mileage',\n",
    "    \"Cero_Km\": 'Zero_ml', \n",
    "    \"Valor\": 'Price'\n",
    "})\n",
    "dataset"
   ]
  },
  {
   "cell_type": "markdown",
   "id": "072e12b0-054a-443c-b9d4-bf82553eea89",
   "metadata": {},
   "source": [
    "### Seleciconar columnas\n"
   ]
  },
  {
   "cell_type": "code",
   "execution_count": 85,
   "id": "eda9ceab-0871-45d5-bfdb-8f5d160e27d5",
   "metadata": {},
   "outputs": [
    {
     "data": {
      "text/html": [
       "<div>\n",
       "<style scoped>\n",
       "    .dataframe tbody tr th:only-of-type {\n",
       "        vertical-align: middle;\n",
       "    }\n",
       "\n",
       "    .dataframe tbody tr th {\n",
       "        vertical-align: top;\n",
       "    }\n",
       "\n",
       "    .dataframe thead th {\n",
       "        text-align: right;\n",
       "    }\n",
       "</style>\n",
       "<table border=\"1\" class=\"dataframe\">\n",
       "  <thead>\n",
       "    <tr style=\"text-align: right;\">\n",
       "      <th></th>\n",
       "      <th>Engine</th>\n",
       "    </tr>\n",
       "  </thead>\n",
       "  <tbody>\n",
       "    <tr>\n",
       "      <th>0</th>\n",
       "      <td>Motor 4.0 Turbo</td>\n",
       "    </tr>\n",
       "    <tr>\n",
       "      <th>1</th>\n",
       "      <td>Motor 4.54 LS</td>\n",
       "    </tr>\n",
       "    <tr>\n",
       "      <th>2</th>\n",
       "      <td>Motor 4.3 Turbo</td>\n",
       "    </tr>\n",
       "    <tr>\n",
       "      <th>3</th>\n",
       "      <td>Motor 8.0</td>\n",
       "    </tr>\n",
       "  </tbody>\n",
       "</table>\n",
       "</div>"
      ],
      "text/plain": [
       "            Engine\n",
       "0  Motor 4.0 Turbo\n",
       "1    Motor 4.54 LS\n",
       "2  Motor 4.3 Turbo\n",
       "3        Motor 8.0"
      ]
     },
     "execution_count": 85,
     "metadata": {},
     "output_type": "execute_result"
    }
   ],
   "source": [
    "dataset[\"Engine\"]"
   ]
  },
  {
   "cell_type": "code",
   "execution_count": 87,
   "id": "707e9e19-0392-42ff-9fe3-e10d354cf022",
   "metadata": {},
   "outputs": [
    {
     "data": {
      "text/html": [
       "<div>\n",
       "<style scoped>\n",
       "    .dataframe tbody tr th:only-of-type {\n",
       "        vertical-align: middle;\n",
       "    }\n",
       "\n",
       "    .dataframe tbody tr th {\n",
       "        vertical-align: top;\n",
       "    }\n",
       "\n",
       "    .dataframe thead th {\n",
       "        text-align: right;\n",
       "    }\n",
       "</style>\n",
       "<table border=\"1\" class=\"dataframe\">\n",
       "  <thead>\n",
       "    <tr style=\"text-align: right;\">\n",
       "      <th></th>\n",
       "      <th>Name</th>\n",
       "      <th>Price</th>\n",
       "    </tr>\n",
       "  </thead>\n",
       "  <tbody>\n",
       "    <tr>\n",
       "      <th>0</th>\n",
       "      <td>Jetta Variant</td>\n",
       "      <td>120000</td>\n",
       "    </tr>\n",
       "    <tr>\n",
       "      <th>1</th>\n",
       "      <td>Camaro</td>\n",
       "      <td>480000</td>\n",
       "    </tr>\n",
       "    <tr>\n",
       "      <th>2</th>\n",
       "      <td>Challenger</td>\n",
       "      <td>680000</td>\n",
       "    </tr>\n",
       "    <tr>\n",
       "      <th>3</th>\n",
       "      <td>Audi 8 Spider</td>\n",
       "      <td>4450000</td>\n",
       "    </tr>\n",
       "  </tbody>\n",
       "</table>\n",
       "</div>"
      ],
      "text/plain": [
       "            Name    Price\n",
       "0  Jetta Variant   120000\n",
       "1         Camaro   480000\n",
       "2     Challenger   680000\n",
       "3  Audi 8 Spider  4450000"
      ]
     },
     "execution_count": 87,
     "metadata": {},
     "output_type": "execute_result"
    }
   ],
   "source": [
    "dataset[[\"Name\", \"Price\"]]"
   ]
  },
  {
   "cell_type": "markdown",
   "id": "1f7ceb33-12d0-4704-ac3d-6eb9a049fea2",
   "metadata": {},
   "source": [
    "### Mostrar las primeras 2 filas\n"
   ]
  },
  {
   "cell_type": "code",
   "execution_count": 94,
   "id": "58ad5a7d-666b-44f0-956a-dbafc848248d",
   "metadata": {},
   "outputs": [
    {
     "data": {
      "text/html": [
       "<div>\n",
       "<style scoped>\n",
       "    .dataframe tbody tr th:only-of-type {\n",
       "        vertical-align: middle;\n",
       "    }\n",
       "\n",
       "    .dataframe tbody tr th {\n",
       "        vertical-align: top;\n",
       "    }\n",
       "\n",
       "    .dataframe thead th {\n",
       "        text-align: right;\n",
       "    }\n",
       "</style>\n",
       "<table border=\"1\" class=\"dataframe\">\n",
       "  <thead>\n",
       "    <tr style=\"text-align: right;\">\n",
       "      <th></th>\n",
       "      <th>Name</th>\n",
       "      <th>Engine</th>\n",
       "      <th>Year</th>\n",
       "      <th>Mileage</th>\n",
       "      <th>Zero_ml</th>\n",
       "      <th>Price</th>\n",
       "    </tr>\n",
       "  </thead>\n",
       "  <tbody>\n",
       "    <tr>\n",
       "      <th>0</th>\n",
       "      <td>Jetta Variant</td>\n",
       "      <td>Motor 4.0 Turbo</td>\n",
       "      <td>2020</td>\n",
       "      <td>44410.0</td>\n",
       "      <td>False</td>\n",
       "      <td>120000</td>\n",
       "    </tr>\n",
       "    <tr>\n",
       "      <th>1</th>\n",
       "      <td>Camaro</td>\n",
       "      <td>Motor 4.54 LS</td>\n",
       "      <td>2022</td>\n",
       "      <td>10410.0</td>\n",
       "      <td>False</td>\n",
       "      <td>480000</td>\n",
       "    </tr>\n",
       "  </tbody>\n",
       "</table>\n",
       "</div>"
      ],
      "text/plain": [
       "            Name           Engine  Year  Mileage  Zero_ml   Price\n",
       "0  Jetta Variant  Motor 4.0 Turbo  2020  44410.0    False  120000\n",
       "1         Camaro    Motor 4.54 LS  2022  10410.0    False  480000"
      ]
     },
     "execution_count": 94,
     "metadata": {},
     "output_type": "execute_result"
    }
   ],
   "source": [
    "dataset.head(2)"
   ]
  },
  {
   "cell_type": "markdown",
   "id": "ee5a1206-4cf2-42cc-ab31-1f1d8b5ea967",
   "metadata": {},
   "source": [
    "### Como ver las ultimas filas"
   ]
  },
  {
   "cell_type": "code",
   "execution_count": 97,
   "id": "5a13eb25-248e-4835-8b60-8109540f155f",
   "metadata": {},
   "outputs": [
    {
     "data": {
      "text/html": [
       "<div>\n",
       "<style scoped>\n",
       "    .dataframe tbody tr th:only-of-type {\n",
       "        vertical-align: middle;\n",
       "    }\n",
       "\n",
       "    .dataframe tbody tr th {\n",
       "        vertical-align: top;\n",
       "    }\n",
       "\n",
       "    .dataframe thead th {\n",
       "        text-align: right;\n",
       "    }\n",
       "</style>\n",
       "<table border=\"1\" class=\"dataframe\">\n",
       "  <thead>\n",
       "    <tr style=\"text-align: right;\">\n",
       "      <th></th>\n",
       "      <th>Name</th>\n",
       "      <th>Engine</th>\n",
       "      <th>Year</th>\n",
       "      <th>Mileage</th>\n",
       "      <th>Zero_ml</th>\n",
       "      <th>Price</th>\n",
       "    </tr>\n",
       "  </thead>\n",
       "  <tbody>\n",
       "    <tr>\n",
       "      <th>2</th>\n",
       "      <td>Challenger</td>\n",
       "      <td>Motor 4.3 Turbo</td>\n",
       "      <td>2025</td>\n",
       "      <td>0.0</td>\n",
       "      <td>True</td>\n",
       "      <td>680000</td>\n",
       "    </tr>\n",
       "    <tr>\n",
       "      <th>3</th>\n",
       "      <td>Audi 8 Spider</td>\n",
       "      <td>Motor 8.0</td>\n",
       "      <td>2032</td>\n",
       "      <td>0.0</td>\n",
       "      <td>True</td>\n",
       "      <td>4450000</td>\n",
       "    </tr>\n",
       "  </tbody>\n",
       "</table>\n",
       "</div>"
      ],
      "text/plain": [
       "            Name           Engine  Year  Mileage  Zero_ml    Price\n",
       "2     Challenger  Motor 4.3 Turbo  2025      0.0     True   680000\n",
       "3  Audi 8 Spider        Motor 8.0  2032      0.0     True  4450000"
      ]
     },
     "execution_count": 97,
     "metadata": {},
     "output_type": "execute_result"
    }
   ],
   "source": [
    "dataset.tail(2)"
   ]
  },
  {
   "cell_type": "markdown",
   "id": "0132c88d-23fe-40f2-8948-baf68b369ca8",
   "metadata": {},
   "source": [
    "### Como obtener un resumen del dataset"
   ]
  },
  {
   "cell_type": "code",
   "execution_count": 100,
   "id": "c143633a-212a-4f90-bc5d-a864175a84aa",
   "metadata": {},
   "outputs": [
    {
     "data": {
      "text/html": [
       "<div>\n",
       "<style scoped>\n",
       "    .dataframe tbody tr th:only-of-type {\n",
       "        vertical-align: middle;\n",
       "    }\n",
       "\n",
       "    .dataframe tbody tr th {\n",
       "        vertical-align: top;\n",
       "    }\n",
       "\n",
       "    .dataframe thead th {\n",
       "        text-align: right;\n",
       "    }\n",
       "</style>\n",
       "<table border=\"1\" class=\"dataframe\">\n",
       "  <thead>\n",
       "    <tr style=\"text-align: right;\">\n",
       "      <th></th>\n",
       "      <th>Year</th>\n",
       "      <th>Mileage</th>\n",
       "      <th>Price</th>\n",
       "    </tr>\n",
       "  </thead>\n",
       "  <tbody>\n",
       "    <tr>\n",
       "      <th>count</th>\n",
       "      <td>4.000000</td>\n",
       "      <td>4.000000</td>\n",
       "      <td>4.000000e+00</td>\n",
       "    </tr>\n",
       "    <tr>\n",
       "      <th>mean</th>\n",
       "      <td>2024.750000</td>\n",
       "      <td>13705.000000</td>\n",
       "      <td>1.432500e+06</td>\n",
       "    </tr>\n",
       "    <tr>\n",
       "      <th>std</th>\n",
       "      <td>5.251984</td>\n",
       "      <td>21050.004751</td>\n",
       "      <td>2.024967e+06</td>\n",
       "    </tr>\n",
       "    <tr>\n",
       "      <th>min</th>\n",
       "      <td>2020.000000</td>\n",
       "      <td>0.000000</td>\n",
       "      <td>1.200000e+05</td>\n",
       "    </tr>\n",
       "    <tr>\n",
       "      <th>25%</th>\n",
       "      <td>2021.500000</td>\n",
       "      <td>0.000000</td>\n",
       "      <td>3.900000e+05</td>\n",
       "    </tr>\n",
       "    <tr>\n",
       "      <th>50%</th>\n",
       "      <td>2023.500000</td>\n",
       "      <td>5205.000000</td>\n",
       "      <td>5.800000e+05</td>\n",
       "    </tr>\n",
       "    <tr>\n",
       "      <th>75%</th>\n",
       "      <td>2026.750000</td>\n",
       "      <td>18910.000000</td>\n",
       "      <td>1.622500e+06</td>\n",
       "    </tr>\n",
       "    <tr>\n",
       "      <th>max</th>\n",
       "      <td>2032.000000</td>\n",
       "      <td>44410.000000</td>\n",
       "      <td>4.450000e+06</td>\n",
       "    </tr>\n",
       "  </tbody>\n",
       "</table>\n",
       "</div>"
      ],
      "text/plain": [
       "              Year       Mileage         Price\n",
       "count     4.000000      4.000000  4.000000e+00\n",
       "mean   2024.750000  13705.000000  1.432500e+06\n",
       "std       5.251984  21050.004751  2.024967e+06\n",
       "min    2020.000000      0.000000  1.200000e+05\n",
       "25%    2021.500000      0.000000  3.900000e+05\n",
       "50%    2023.500000   5205.000000  5.800000e+05\n",
       "75%    2026.750000  18910.000000  1.622500e+06\n",
       "max    2032.000000  44410.000000  4.450000e+06"
      ]
     },
     "execution_count": 100,
     "metadata": {},
     "output_type": "execute_result"
    }
   ],
   "source": [
    "dataset.describe()"
   ]
  },
  {
   "cell_type": "markdown",
   "id": "5309b046-53c4-4baa-b5f4-88a1a3438fb7",
   "metadata": {},
   "source": [
    "### Seleccionar lineas (datos)"
   ]
  },
  {
   "cell_type": "code",
   "execution_count": 118,
   "id": "6e9be189-3445-4eab-bccf-d9201610f751",
   "metadata": {},
   "outputs": [
    {
     "data": {
      "text/html": [
       "<div>\n",
       "<style scoped>\n",
       "    .dataframe tbody tr th:only-of-type {\n",
       "        vertical-align: middle;\n",
       "    }\n",
       "\n",
       "    .dataframe tbody tr th {\n",
       "        vertical-align: top;\n",
       "    }\n",
       "\n",
       "    .dataframe thead th {\n",
       "        text-align: right;\n",
       "    }\n",
       "</style>\n",
       "<table border=\"1\" class=\"dataframe\">\n",
       "  <thead>\n",
       "    <tr style=\"text-align: right;\">\n",
       "      <th></th>\n",
       "      <th>Name</th>\n",
       "      <th>Engine</th>\n",
       "      <th>Year</th>\n",
       "      <th>Mileage</th>\n",
       "      <th>Zero_ml</th>\n",
       "      <th>Price</th>\n",
       "    </tr>\n",
       "  </thead>\n",
       "  <tbody>\n",
       "    <tr>\n",
       "      <th>0</th>\n",
       "      <td>Jetta Variant</td>\n",
       "      <td>Motor 4.0 Turbo</td>\n",
       "      <td>2020</td>\n",
       "      <td>44410.0</td>\n",
       "      <td>False</td>\n",
       "      <td>120000</td>\n",
       "    </tr>\n",
       "    <tr>\n",
       "      <th>1</th>\n",
       "      <td>Camaro</td>\n",
       "      <td>Motor 4.54 LS</td>\n",
       "      <td>2022</td>\n",
       "      <td>10410.0</td>\n",
       "      <td>False</td>\n",
       "      <td>480000</td>\n",
       "    </tr>\n",
       "  </tbody>\n",
       "</table>\n",
       "</div>"
      ],
      "text/plain": [
       "            Name           Engine  Year  Mileage  Zero_ml   Price\n",
       "0  Jetta Variant  Motor 4.0 Turbo  2020  44410.0    False  120000\n",
       "1         Camaro    Motor 4.54 LS  2022  10410.0    False  480000"
      ]
     },
     "execution_count": 118,
     "metadata": {},
     "output_type": "execute_result"
    }
   ],
   "source": [
    "# Mostrar las primeras 2 filas\n",
    "dataset[:2]"
   ]
  },
  {
   "cell_type": "code",
   "execution_count": 114,
   "id": "bd37ea91-08a5-4988-aee3-6149d1fe9bc1",
   "metadata": {},
   "outputs": [
    {
     "data": {
      "text/html": [
       "<div>\n",
       "<style scoped>\n",
       "    .dataframe tbody tr th:only-of-type {\n",
       "        vertical-align: middle;\n",
       "    }\n",
       "\n",
       "    .dataframe tbody tr th {\n",
       "        vertical-align: top;\n",
       "    }\n",
       "\n",
       "    .dataframe thead th {\n",
       "        text-align: right;\n",
       "    }\n",
       "</style>\n",
       "<table border=\"1\" class=\"dataframe\">\n",
       "  <thead>\n",
       "    <tr style=\"text-align: right;\">\n",
       "      <th></th>\n",
       "      <th>Name</th>\n",
       "      <th>Engine</th>\n",
       "      <th>Year</th>\n",
       "      <th>Mileage</th>\n",
       "      <th>Zero_ml</th>\n",
       "      <th>Price</th>\n",
       "    </tr>\n",
       "  </thead>\n",
       "  <tbody>\n",
       "    <tr>\n",
       "      <th>2</th>\n",
       "      <td>Challenger</td>\n",
       "      <td>Motor 4.3 Turbo</td>\n",
       "      <td>2025</td>\n",
       "      <td>0.0</td>\n",
       "      <td>True</td>\n",
       "      <td>680000</td>\n",
       "    </tr>\n",
       "    <tr>\n",
       "      <th>3</th>\n",
       "      <td>Audi 8 Spider</td>\n",
       "      <td>Motor 8.0</td>\n",
       "      <td>2032</td>\n",
       "      <td>0.0</td>\n",
       "      <td>True</td>\n",
       "      <td>4450000</td>\n",
       "    </tr>\n",
       "  </tbody>\n",
       "</table>\n",
       "</div>"
      ],
      "text/plain": [
       "            Name           Engine  Year  Mileage  Zero_ml    Price\n",
       "2     Challenger  Motor 4.3 Turbo  2025      0.0     True   680000\n",
       "3  Audi 8 Spider        Motor 8.0  2032      0.0     True  4450000"
      ]
     },
     "execution_count": 114,
     "metadata": {},
     "output_type": "execute_result"
    }
   ],
   "source": [
    "# Mostrar las ultimas 2 filas\n",
    "dataset[-2:]"
   ]
  },
  {
   "cell_type": "markdown",
   "id": "4b8d935d-6f78-402a-bf5a-d0013d5da624",
   "metadata": {},
   "source": [
    "### Utilizar (.loc) para secciones"
   ]
  },
  {
   "cell_type": "code",
   "execution_count": 123,
   "id": "17e67768-661a-478d-b3f7-dc4c79bde415",
   "metadata": {},
   "outputs": [
    {
     "data": {
      "text/plain": [
       "Name       Audi 8 Spider\n",
       "Engine         Motor 8.0\n",
       "Year                2032\n",
       "Mileage              0.0\n",
       "Zero_ml             True\n",
       "Price            4450000\n",
       "Name: 3, dtype: object"
      ]
     },
     "execution_count": 123,
     "metadata": {},
     "output_type": "execute_result"
    }
   ],
   "source": [
    "# Elemento con un indec 3\n",
    "dataset.loc[3]"
   ]
  },
  {
   "cell_type": "code",
   "execution_count": 131,
   "id": "6fe4b330-8c66-45ca-a38e-1a948f04eb96",
   "metadata": {},
   "outputs": [
    {
     "data": {
      "text/html": [
       "<div>\n",
       "<style scoped>\n",
       "    .dataframe tbody tr th:only-of-type {\n",
       "        vertical-align: middle;\n",
       "    }\n",
       "\n",
       "    .dataframe tbody tr th {\n",
       "        vertical-align: top;\n",
       "    }\n",
       "\n",
       "    .dataframe thead th {\n",
       "        text-align: right;\n",
       "    }\n",
       "</style>\n",
       "<table border=\"1\" class=\"dataframe\">\n",
       "  <thead>\n",
       "    <tr style=\"text-align: right;\">\n",
       "      <th></th>\n",
       "      <th>Name</th>\n",
       "      <th>Engine</th>\n",
       "      <th>Year</th>\n",
       "      <th>Mileage</th>\n",
       "      <th>Zero_ml</th>\n",
       "      <th>Price</th>\n",
       "    </tr>\n",
       "  </thead>\n",
       "  <tbody>\n",
       "    <tr>\n",
       "      <th>1</th>\n",
       "      <td>Camaro</td>\n",
       "      <td>Motor 4.54 LS</td>\n",
       "      <td>2022</td>\n",
       "      <td>10410.0</td>\n",
       "      <td>False</td>\n",
       "      <td>480000</td>\n",
       "    </tr>\n",
       "    <tr>\n",
       "      <th>3</th>\n",
       "      <td>Audi 8 Spider</td>\n",
       "      <td>Motor 8.0</td>\n",
       "      <td>2032</td>\n",
       "      <td>0.0</td>\n",
       "      <td>True</td>\n",
       "      <td>4450000</td>\n",
       "    </tr>\n",
       "    <tr>\n",
       "      <th>0</th>\n",
       "      <td>Jetta Variant</td>\n",
       "      <td>Motor 4.0 Turbo</td>\n",
       "      <td>2020</td>\n",
       "      <td>44410.0</td>\n",
       "      <td>False</td>\n",
       "      <td>120000</td>\n",
       "    </tr>\n",
       "    <tr>\n",
       "      <th>3</th>\n",
       "      <td>Audi 8 Spider</td>\n",
       "      <td>Motor 8.0</td>\n",
       "      <td>2032</td>\n",
       "      <td>0.0</td>\n",
       "      <td>True</td>\n",
       "      <td>4450000</td>\n",
       "    </tr>\n",
       "  </tbody>\n",
       "</table>\n",
       "</div>"
      ],
      "text/plain": [
       "            Name           Engine  Year  Mileage  Zero_ml    Price\n",
       "1         Camaro    Motor 4.54 LS  2022  10410.0    False   480000\n",
       "3  Audi 8 Spider        Motor 8.0  2032      0.0     True  4450000\n",
       "0  Jetta Variant  Motor 4.0 Turbo  2020  44410.0    False   120000\n",
       "3  Audi 8 Spider        Motor 8.0  2032      0.0     True  4450000"
      ]
     },
     "execution_count": 131,
     "metadata": {},
     "output_type": "execute_result"
    }
   ],
   "source": [
    "# Mostrar los elementos de los indices 1 y 2\n",
    "dataset.loc[[1,3,0,3]]"
   ]
  },
  {
   "cell_type": "code",
   "execution_count": 137,
   "id": "d4c5e4d9-ed63-4e14-8d35-fbd86e2cc8f8",
   "metadata": {},
   "outputs": [
    {
     "data": {
      "text/html": [
       "<div>\n",
       "<style scoped>\n",
       "    .dataframe tbody tr th:only-of-type {\n",
       "        vertical-align: middle;\n",
       "    }\n",
       "\n",
       "    .dataframe tbody tr th {\n",
       "        vertical-align: top;\n",
       "    }\n",
       "\n",
       "    .dataframe thead th {\n",
       "        text-align: right;\n",
       "    }\n",
       "</style>\n",
       "<table border=\"1\" class=\"dataframe\">\n",
       "  <thead>\n",
       "    <tr style=\"text-align: right;\">\n",
       "      <th></th>\n",
       "      <th>Name</th>\n",
       "      <th>Price</th>\n",
       "    </tr>\n",
       "  </thead>\n",
       "  <tbody>\n",
       "    <tr>\n",
       "      <th>0</th>\n",
       "      <td>Jetta Variant</td>\n",
       "      <td>120000</td>\n",
       "    </tr>\n",
       "    <tr>\n",
       "      <th>1</th>\n",
       "      <td>Camaro</td>\n",
       "      <td>480000</td>\n",
       "    </tr>\n",
       "    <tr>\n",
       "      <th>2</th>\n",
       "      <td>Challenger</td>\n",
       "      <td>680000</td>\n",
       "    </tr>\n",
       "    <tr>\n",
       "      <th>3</th>\n",
       "      <td>Audi 8 Spider</td>\n",
       "      <td>4450000</td>\n",
       "    </tr>\n",
       "  </tbody>\n",
       "</table>\n",
       "</div>"
      ],
      "text/plain": [
       "            Name    Price\n",
       "0  Jetta Variant   120000\n",
       "1         Camaro   480000\n",
       "2     Challenger   680000\n",
       "3  Audi 8 Spider  4450000"
      ]
     },
     "execution_count": 137,
     "metadata": {},
     "output_type": "execute_result"
    }
   ],
   "source": [
    "# Mostrar el nombre y el precio\n",
    "dataset.loc[: ,['Name', 'Price']]"
   ]
  },
  {
   "cell_type": "code",
   "execution_count": 141,
   "id": "b6138909-f0e3-4301-93aa-40bd7c57ab86",
   "metadata": {},
   "outputs": [
    {
     "data": {
      "text/html": [
       "<div>\n",
       "<style scoped>\n",
       "    .dataframe tbody tr th:only-of-type {\n",
       "        vertical-align: middle;\n",
       "    }\n",
       "\n",
       "    .dataframe tbody tr th {\n",
       "        vertical-align: top;\n",
       "    }\n",
       "\n",
       "    .dataframe thead th {\n",
       "        text-align: right;\n",
       "    }\n",
       "</style>\n",
       "<table border=\"1\" class=\"dataframe\">\n",
       "  <thead>\n",
       "    <tr style=\"text-align: right;\">\n",
       "      <th></th>\n",
       "      <th>Name</th>\n",
       "      <th>Price</th>\n",
       "    </tr>\n",
       "  </thead>\n",
       "  <tbody>\n",
       "    <tr>\n",
       "      <th>1</th>\n",
       "      <td>Camaro</td>\n",
       "      <td>480000</td>\n",
       "    </tr>\n",
       "    <tr>\n",
       "      <th>2</th>\n",
       "      <td>Challenger</td>\n",
       "      <td>680000</td>\n",
       "    </tr>\n",
       "  </tbody>\n",
       "</table>\n",
       "</div>"
      ],
      "text/plain": [
       "         Name   Price\n",
       "1      Camaro  480000\n",
       "2  Challenger  680000"
      ]
     },
     "execution_count": 141,
     "metadata": {},
     "output_type": "execute_result"
    }
   ],
   "source": [
    "dataset.loc[1:2 ,['Name', 'Price']]"
   ]
  }
 ],
 "metadata": {
  "kernelspec": {
   "display_name": "Python [conda env:base] *",
   "language": "python",
   "name": "conda-base-py"
  },
  "language_info": {
   "codemirror_mode": {
    "name": "ipython",
    "version": 3
   },
   "file_extension": ".py",
   "mimetype": "text/x-python",
   "name": "python",
   "nbconvert_exporter": "python",
   "pygments_lexer": "ipython3",
   "version": "3.12.7"
  }
 },
 "nbformat": 4,
 "nbformat_minor": 5
}
