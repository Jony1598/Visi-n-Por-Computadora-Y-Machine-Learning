{
 "cells": [
  {
   "cell_type": "markdown",
   "id": "2842e814-d763-47ce-8ee6-e92b1cbe5ea5",
   "metadata": {},
   "source": [
    "## Practica con Nunmpy\n",
    "\n",
    "### Vectores"
   ]
  },
  {
   "cell_type": "code",
   "execution_count": 1,
   "id": "85992059-fcc1-4f87-b93d-3e89dc0e3075",
   "metadata": {},
   "outputs": [],
   "source": [
    "# Importar la libreria Numpy\n",
    "import numpy as np"
   ]
  },
  {
   "cell_type": "code",
   "execution_count": 2,
   "id": "321e33f9-18f6-43f3-b410-190cc11a8b34",
   "metadata": {},
   "outputs": [
    {
     "name": "stdout",
     "output_type": "stream",
     "text": [
      "Hola desde Numpy\n"
     ]
    }
   ],
   "source": [
    "print(\"Hola desde Numpy\")"
   ]
  },
  {
   "cell_type": "code",
   "execution_count": 3,
   "id": "a6028f2b-0e66-46f3-8115-73d2ca47089f",
   "metadata": {},
   "outputs": [
    {
     "name": "stdout",
     "output_type": "stream",
     "text": [
      "Leonardo  53 True 1.67\n"
     ]
    }
   ],
   "source": [
    "# Variable en Python\n",
    "nombre = \"Leonardo \"\n",
    "edad = 53\n",
    "casado = True\n",
    "estatura = 1.67\n",
    "print(nombre, edad, casado, estatura)"
   ]
  },
  {
   "cell_type": "code",
   "execution_count": 7,
   "id": "6ee2455a-c837-49f9-986d-d427ba9d4b85",
   "metadata": {},
   "outputs": [
    {
     "name": "stdout",
     "output_type": "stream",
     "text": [
      "Nombre: Leonardo , Edad: 53, Estatura: 1.67\n",
      "Estado civil: Casado\n"
     ]
    }
   ],
   "source": [
    "print(f\"Nombre: {nombre}, Edad: {edad}, Estatura: {estatura}\")\n",
    "if casado == True:\n",
    "    print(\"Estado civil: Casado\")\n",
    "else:\n",
    "    print(\"Estado civil: Soltero\")"
   ]
  },
  {
   "cell_type": "code",
   "execution_count": 8,
   "id": "0a151c56-8c65-4d54-87ab-873c11964333",
   "metadata": {},
   "outputs": [
    {
     "name": "stdout",
     "output_type": "stream",
     "text": [
      "0\n",
      "1\n",
      "2\n",
      "3\n",
      "4\n",
      "5\n",
      "6\n",
      "7\n",
      "8\n",
      "9\n"
     ]
    }
   ],
   "source": [
    "for i in range(10):\n",
    "    print(i)"
   ]
  },
  {
   "cell_type": "code",
   "execution_count": 9,
   "id": "57978671-e73b-49db-81d5-afcf54c09c73",
   "metadata": {},
   "outputs": [
    {
     "name": "stdout",
     "output_type": "stream",
     "text": [
      "0\n",
      "2\n",
      "4\n",
      "6\n",
      "8\n",
      "10\n"
     ]
    }
   ],
   "source": [
    "for i in range(11):\n",
    "    if i % 2 == 0:\n",
    "        print(i)"
   ]
  },
  {
   "cell_type": "code",
   "execution_count": 10,
   "id": "e257ee7d-3f88-4868-a5ef-2f0c40e5ff94",
   "metadata": {},
   "outputs": [
    {
     "name": "stdout",
     "output_type": "stream",
     "text": [
      "0\n",
      "2\n",
      "4\n",
      "6\n",
      "8\n",
      "10\n"
     ]
    }
   ],
   "source": [
    "for i in range(0, 11, 2):\n",
    "    print(i)"
   ]
  },
  {
   "cell_type": "code",
   "execution_count": 13,
   "id": "b5f68362-0b1d-48bb-8099-b73d7dc36858",
   "metadata": {},
   "outputs": [
    {
     "name": "stdout",
     "output_type": "stream",
     "text": [
      "[18, 17, 19, 21, 18, 17, 23]\n",
      "Mayor de edad\n",
      "Menor de edad\n",
      "Mayor de edad\n",
      "Mayor de edad\n",
      "Mayor de edad\n",
      "Menor de edad\n",
      "Mayor de edad\n"
     ]
    }
   ],
   "source": [
    "#Listas []\n",
    "edades = [18, 17, 19, 21, 18, 17, 23]\n",
    "\n",
    "print(edades)\n",
    "for est in edades:\n",
    "    if est >= 18:\n",
    "        print(\"Mayor de edad\")\n",
    "    else:\n",
    "        print(\"Menor de edad\")"
   ]
  },
  {
   "cell_type": "code",
   "execution_count": 14,
   "id": "47584a23-4419-4fca-b574-c23e285aa791",
   "metadata": {},
   "outputs": [
    {
     "name": "stdout",
     "output_type": "stream",
     "text": [
      "{'Nombre': 'Leonardo Martinez', 'Edad': 53, 'Sexo': 'Masculino'}\n"
     ]
    }
   ],
   "source": [
    "#Diccionario\n",
    "estudiantes = {\"Nombre\": 'Leonardo Martinez', \"Edad\": 53, \"Sexo\": \"Masculino\"}\n",
    "print(estudiantes)"
   ]
  },
  {
   "cell_type": "code",
   "execution_count": 19,
   "id": "dda22f66-9153-490a-ad83-26d9532b16e1",
   "metadata": {},
   "outputs": [
    {
     "name": "stdout",
     "output_type": "stream",
     "text": [
      "Nombre:  Leonardo Martinez\n",
      "Nombre:  Leonardo Martinez\n",
      "{'Nombre': 'Leonardo Martinez', 'Edad': 53, 'Sexo': 'Masculino', 'Estado_Civil': 'Casado'}\n"
     ]
    }
   ],
   "source": [
    "#Para imprimir\n",
    "print (\"Nombre: \", estudiantes[\"Nombre\"])\n",
    "print (\"Nombre: \", estudiantes.get(\"Nombre\"))\n",
    "\n",
    "estudiantes[\"Estado_Civil\"]= 'Casado'\n",
    "print(estudiantes)"
   ]
  },
  {
   "cell_type": "code",
   "execution_count": 22,
   "id": "072a4245-9e51-4f4e-9985-8b27dd3aea02",
   "metadata": {},
   "outputs": [
    {
     "name": "stdout",
     "output_type": "stream",
     "text": [
      "[{'estudiante': 'Karla', 'edad': 18, 'promedio': 90.8}, {'estudiante': 'Jonathan', 'edad': 21, 'promedio': 99.8}, {'estudiante': 'Chino', 'edad': 15, 'promedio': 70.8}]\n",
      "Nombre: Karla Promedio: 90.8\n",
      "Nombre: Jonathan Promedio: 99.8\n",
      "Nombre: Chino Promedio: 70.8\n"
     ]
    }
   ],
   "source": [
    "lista = [\n",
    "    {\"estudiante\": 'Karla', \"edad\": 18, \"promedio\": 90.8},\n",
    "    {\"estudiante\": 'Jonathan', \"edad\": 21, \"promedio\": 99.8},\n",
    "    {\"estudiante\": 'Chino', \"edad\": 15, \"promedio\": 70.8},\n",
    "]\n",
    "print(lista)\n",
    "\n",
    "for est in lista:\n",
    "    print(f\"Nombre: {est.get(\"estudiante\")} Promedio: {est.get(\"promedio\")}\")"
   ]
  },
  {
   "cell_type": "code",
   "execution_count": 3,
   "id": "15bb5a32-0046-4660-a377-03cfa45698bd",
   "metadata": {},
   "outputs": [
    {
     "name": "stdout",
     "output_type": "stream",
     "text": [
      "(1, 2, 3, 4, 5)\n",
      "('A', 'B', 'C', 'D')\n"
     ]
    }
   ],
   "source": [
    "#tuplas\n",
    "t = (1,2,3,4,5)\n",
    "print(t)\n",
    "tupla_string = ('A', 'B', 'C', 'D')\n",
    "print(tupla_string)"
   ]
  }
 ],
 "metadata": {
  "kernelspec": {
   "display_name": "Python [conda env:base] *",
   "language": "python",
   "name": "conda-base-py"
  },
  "language_info": {
   "codemirror_mode": {
    "name": "ipython",
    "version": 3
   },
   "file_extension": ".py",
   "mimetype": "text/x-python",
   "name": "python",
   "nbconvert_exporter": "python",
   "pygments_lexer": "ipython3",
   "version": "3.12.7"
  }
 },
 "nbformat": 4,
 "nbformat_minor": 5
}
