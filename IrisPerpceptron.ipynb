{
 "cells": [
  {
   "cell_type": "code",
   "execution_count": 1,
   "id": "0919ef2b-416b-4dde-a288-283fd83bb12b",
   "metadata": {},
   "outputs": [],
   "source": [
    "import pandas as pd\n",
    "import numpy as np\n",
    "import matplotlib.pyplot as plt"
   ]
  },
  {
   "cell_type": "code",
   "execution_count": 2,
   "id": "00bc0f00-41c3-4173-8db7-0aa2132b2c8a",
   "metadata": {
    "scrolled": true
   },
   "outputs": [
    {
     "data": {
      "text/html": [
       "<div>\n",
       "<style scoped>\n",
       "    .dataframe tbody tr th:only-of-type {\n",
       "        vertical-align: middle;\n",
       "    }\n",
       "\n",
       "    .dataframe tbody tr th {\n",
       "        vertical-align: top;\n",
       "    }\n",
       "\n",
       "    .dataframe thead th {\n",
       "        text-align: right;\n",
       "    }\n",
       "</style>\n",
       "<table border=\"1\" class=\"dataframe\">\n",
       "  <thead>\n",
       "    <tr style=\"text-align: right;\">\n",
       "      <th></th>\n",
       "      <th>sepal_length</th>\n",
       "      <th>sepal_width</th>\n",
       "      <th>petal_length</th>\n",
       "      <th>petal_width</th>\n",
       "      <th>species</th>\n",
       "    </tr>\n",
       "  </thead>\n",
       "  <tbody>\n",
       "    <tr>\n",
       "      <th>0</th>\n",
       "      <td>5.1</td>\n",
       "      <td>3.5</td>\n",
       "      <td>1.4</td>\n",
       "      <td>0.2</td>\n",
       "      <td>Iris-setosa</td>\n",
       "    </tr>\n",
       "    <tr>\n",
       "      <th>1</th>\n",
       "      <td>4.9</td>\n",
       "      <td>3.0</td>\n",
       "      <td>1.4</td>\n",
       "      <td>0.2</td>\n",
       "      <td>Iris-setosa</td>\n",
       "    </tr>\n",
       "    <tr>\n",
       "      <th>2</th>\n",
       "      <td>4.7</td>\n",
       "      <td>3.2</td>\n",
       "      <td>1.3</td>\n",
       "      <td>0.2</td>\n",
       "      <td>Iris-setosa</td>\n",
       "    </tr>\n",
       "    <tr>\n",
       "      <th>3</th>\n",
       "      <td>4.6</td>\n",
       "      <td>3.1</td>\n",
       "      <td>1.5</td>\n",
       "      <td>0.2</td>\n",
       "      <td>Iris-setosa</td>\n",
       "    </tr>\n",
       "    <tr>\n",
       "      <th>4</th>\n",
       "      <td>5.0</td>\n",
       "      <td>3.6</td>\n",
       "      <td>1.4</td>\n",
       "      <td>0.2</td>\n",
       "      <td>Iris-setosa</td>\n",
       "    </tr>\n",
       "    <tr>\n",
       "      <th>...</th>\n",
       "      <td>...</td>\n",
       "      <td>...</td>\n",
       "      <td>...</td>\n",
       "      <td>...</td>\n",
       "      <td>...</td>\n",
       "    </tr>\n",
       "    <tr>\n",
       "      <th>145</th>\n",
       "      <td>6.7</td>\n",
       "      <td>3.0</td>\n",
       "      <td>5.2</td>\n",
       "      <td>2.3</td>\n",
       "      <td>Iris-virginica</td>\n",
       "    </tr>\n",
       "    <tr>\n",
       "      <th>146</th>\n",
       "      <td>6.3</td>\n",
       "      <td>2.5</td>\n",
       "      <td>5.0</td>\n",
       "      <td>1.9</td>\n",
       "      <td>Iris-virginica</td>\n",
       "    </tr>\n",
       "    <tr>\n",
       "      <th>147</th>\n",
       "      <td>6.5</td>\n",
       "      <td>3.0</td>\n",
       "      <td>5.2</td>\n",
       "      <td>2.0</td>\n",
       "      <td>Iris-virginica</td>\n",
       "    </tr>\n",
       "    <tr>\n",
       "      <th>148</th>\n",
       "      <td>6.2</td>\n",
       "      <td>3.4</td>\n",
       "      <td>5.4</td>\n",
       "      <td>2.3</td>\n",
       "      <td>Iris-virginica</td>\n",
       "    </tr>\n",
       "    <tr>\n",
       "      <th>149</th>\n",
       "      <td>5.9</td>\n",
       "      <td>3.0</td>\n",
       "      <td>5.1</td>\n",
       "      <td>1.8</td>\n",
       "      <td>Iris-virginica</td>\n",
       "    </tr>\n",
       "  </tbody>\n",
       "</table>\n",
       "<p>150 rows × 5 columns</p>\n",
       "</div>"
      ],
      "text/plain": [
       "     sepal_length  sepal_width  petal_length  petal_width         species\n",
       "0             5.1          3.5           1.4          0.2     Iris-setosa\n",
       "1             4.9          3.0           1.4          0.2     Iris-setosa\n",
       "2             4.7          3.2           1.3          0.2     Iris-setosa\n",
       "3             4.6          3.1           1.5          0.2     Iris-setosa\n",
       "4             5.0          3.6           1.4          0.2     Iris-setosa\n",
       "..            ...          ...           ...          ...             ...\n",
       "145           6.7          3.0           5.2          2.3  Iris-virginica\n",
       "146           6.3          2.5           5.0          1.9  Iris-virginica\n",
       "147           6.5          3.0           5.2          2.0  Iris-virginica\n",
       "148           6.2          3.4           5.4          2.3  Iris-virginica\n",
       "149           5.9          3.0           5.1          1.8  Iris-virginica\n",
       "\n",
       "[150 rows x 5 columns]"
      ]
     },
     "execution_count": 2,
     "metadata": {},
     "output_type": "execute_result"
    }
   ],
   "source": [
    "df = pd.read_csv(\"IRIS.csv\")\n",
    "df"
   ]
  },
  {
   "cell_type": "code",
   "execution_count": 3,
   "id": "4d6a889b-e47e-41b5-b733-71ac8c859391",
   "metadata": {},
   "outputs": [
    {
     "data": {
      "text/plain": [
       "array(['Iris-setosa', 'Iris-versicolor', 'Iris-virginica'], dtype=object)"
      ]
     },
     "execution_count": 3,
     "metadata": {},
     "output_type": "execute_result"
    }
   ],
   "source": [
    "df['species'].unique()"
   ]
  },
  {
   "cell_type": "code",
   "execution_count": 4,
   "id": "5ad4a8a8-ae16-40a8-b7db-d7afb091d4ce",
   "metadata": {},
   "outputs": [
    {
     "data": {
      "text/html": [
       "<div>\n",
       "<style scoped>\n",
       "    .dataframe tbody tr th:only-of-type {\n",
       "        vertical-align: middle;\n",
       "    }\n",
       "\n",
       "    .dataframe tbody tr th {\n",
       "        vertical-align: top;\n",
       "    }\n",
       "\n",
       "    .dataframe thead th {\n",
       "        text-align: right;\n",
       "    }\n",
       "</style>\n",
       "<table border=\"1\" class=\"dataframe\">\n",
       "  <thead>\n",
       "    <tr style=\"text-align: right;\">\n",
       "      <th></th>\n",
       "      <th>sepal_length</th>\n",
       "      <th>sepal_width</th>\n",
       "      <th>petal_length</th>\n",
       "      <th>petal_width</th>\n",
       "      <th>species</th>\n",
       "    </tr>\n",
       "  </thead>\n",
       "  <tbody>\n",
       "    <tr>\n",
       "      <th>0</th>\n",
       "      <td>5.1</td>\n",
       "      <td>3.5</td>\n",
       "      <td>1.4</td>\n",
       "      <td>0.2</td>\n",
       "      <td>Iris-setosa</td>\n",
       "    </tr>\n",
       "    <tr>\n",
       "      <th>1</th>\n",
       "      <td>4.9</td>\n",
       "      <td>3.0</td>\n",
       "      <td>1.4</td>\n",
       "      <td>0.2</td>\n",
       "      <td>Iris-setosa</td>\n",
       "    </tr>\n",
       "    <tr>\n",
       "      <th>2</th>\n",
       "      <td>4.7</td>\n",
       "      <td>3.2</td>\n",
       "      <td>1.3</td>\n",
       "      <td>0.2</td>\n",
       "      <td>Iris-setosa</td>\n",
       "    </tr>\n",
       "    <tr>\n",
       "      <th>3</th>\n",
       "      <td>4.6</td>\n",
       "      <td>3.1</td>\n",
       "      <td>1.5</td>\n",
       "      <td>0.2</td>\n",
       "      <td>Iris-setosa</td>\n",
       "    </tr>\n",
       "    <tr>\n",
       "      <th>4</th>\n",
       "      <td>5.0</td>\n",
       "      <td>3.6</td>\n",
       "      <td>1.4</td>\n",
       "      <td>0.2</td>\n",
       "      <td>Iris-setosa</td>\n",
       "    </tr>\n",
       "    <tr>\n",
       "      <th>...</th>\n",
       "      <td>...</td>\n",
       "      <td>...</td>\n",
       "      <td>...</td>\n",
       "      <td>...</td>\n",
       "      <td>...</td>\n",
       "    </tr>\n",
       "    <tr>\n",
       "      <th>95</th>\n",
       "      <td>5.7</td>\n",
       "      <td>3.0</td>\n",
       "      <td>4.2</td>\n",
       "      <td>1.2</td>\n",
       "      <td>Iris-versicolor</td>\n",
       "    </tr>\n",
       "    <tr>\n",
       "      <th>96</th>\n",
       "      <td>5.7</td>\n",
       "      <td>2.9</td>\n",
       "      <td>4.2</td>\n",
       "      <td>1.3</td>\n",
       "      <td>Iris-versicolor</td>\n",
       "    </tr>\n",
       "    <tr>\n",
       "      <th>97</th>\n",
       "      <td>6.2</td>\n",
       "      <td>2.9</td>\n",
       "      <td>4.3</td>\n",
       "      <td>1.3</td>\n",
       "      <td>Iris-versicolor</td>\n",
       "    </tr>\n",
       "    <tr>\n",
       "      <th>98</th>\n",
       "      <td>5.1</td>\n",
       "      <td>2.5</td>\n",
       "      <td>3.0</td>\n",
       "      <td>1.1</td>\n",
       "      <td>Iris-versicolor</td>\n",
       "    </tr>\n",
       "    <tr>\n",
       "      <th>99</th>\n",
       "      <td>5.7</td>\n",
       "      <td>2.8</td>\n",
       "      <td>4.1</td>\n",
       "      <td>1.3</td>\n",
       "      <td>Iris-versicolor</td>\n",
       "    </tr>\n",
       "  </tbody>\n",
       "</table>\n",
       "<p>100 rows × 5 columns</p>\n",
       "</div>"
      ],
      "text/plain": [
       "    sepal_length  sepal_width  petal_length  petal_width          species\n",
       "0            5.1          3.5           1.4          0.2      Iris-setosa\n",
       "1            4.9          3.0           1.4          0.2      Iris-setosa\n",
       "2            4.7          3.2           1.3          0.2      Iris-setosa\n",
       "3            4.6          3.1           1.5          0.2      Iris-setosa\n",
       "4            5.0          3.6           1.4          0.2      Iris-setosa\n",
       "..           ...          ...           ...          ...              ...\n",
       "95           5.7          3.0           4.2          1.2  Iris-versicolor\n",
       "96           5.7          2.9           4.2          1.3  Iris-versicolor\n",
       "97           6.2          2.9           4.3          1.3  Iris-versicolor\n",
       "98           5.1          2.5           3.0          1.1  Iris-versicolor\n",
       "99           5.7          2.8           4.1          1.3  Iris-versicolor\n",
       "\n",
       "[100 rows x 5 columns]"
      ]
     },
     "execution_count": 4,
     "metadata": {},
     "output_type": "execute_result"
    }
   ],
   "source": [
    "\n",
    "df= df[df['species'] != 'Iris-virginica']\n",
    "df"
   ]
  },
  {
   "cell_type": "code",
   "execution_count": 5,
   "id": "b6aac425-2f25-4960-99ba-0eeed3e6e2d3",
   "metadata": {},
   "outputs": [
    {
     "data": {
      "text/plain": [
       "100"
      ]
     },
     "execution_count": 5,
     "metadata": {},
     "output_type": "execute_result"
    }
   ],
   "source": [
    "df['species'].count()\n"
   ]
  },
  {
   "cell_type": "code",
   "execution_count": 6,
   "id": "d85ec314-e9a1-4120-b7b1-73e2235c7ee5",
   "metadata": {},
   "outputs": [
    {
     "name": "stdout",
     "output_type": "stream",
     "text": [
      "   sepal_length  petal_length      species\n",
      "0           5.1           1.4  Iris-setosa\n",
      "1           4.9           1.4  Iris-setosa\n",
      "2           4.7           1.3  Iris-setosa\n",
      "3           4.6           1.5  Iris-setosa\n",
      "4           5.0           1.4  Iris-setosa\n"
     ]
    }
   ],
   "source": [
    "# Eliminar las columnas 'petal_width' y 'sepal_width'\n",
    "df = df.drop(['petal_width', 'sepal_width'], axis=1)\n",
    "\n",
    "# Mostrar las primeras filas para confirmar\n",
    "print(df.head())"
   ]
  },
  {
   "cell_type": "code",
   "execution_count": 7,
   "id": "c878837a-0457-4530-bf7e-c1ba7963eef2",
   "metadata": {},
   "outputs": [],
   "source": [
    "df['species']=np.where(df['species']== 'Iris-setosa', 1,0)"
   ]
  },
  {
   "cell_type": "code",
   "execution_count": 8,
   "id": "c07d0509-0be8-4abb-9480-b2a8b0eba758",
   "metadata": {},
   "outputs": [
    {
     "data": {
      "text/html": [
       "<div>\n",
       "<style scoped>\n",
       "    .dataframe tbody tr th:only-of-type {\n",
       "        vertical-align: middle;\n",
       "    }\n",
       "\n",
       "    .dataframe tbody tr th {\n",
       "        vertical-align: top;\n",
       "    }\n",
       "\n",
       "    .dataframe thead th {\n",
       "        text-align: right;\n",
       "    }\n",
       "</style>\n",
       "<table border=\"1\" class=\"dataframe\">\n",
       "  <thead>\n",
       "    <tr style=\"text-align: right;\">\n",
       "      <th></th>\n",
       "      <th>sepal_length</th>\n",
       "      <th>petal_length</th>\n",
       "      <th>species</th>\n",
       "    </tr>\n",
       "  </thead>\n",
       "  <tbody>\n",
       "    <tr>\n",
       "      <th>0</th>\n",
       "      <td>5.1</td>\n",
       "      <td>1.4</td>\n",
       "      <td>1</td>\n",
       "    </tr>\n",
       "    <tr>\n",
       "      <th>1</th>\n",
       "      <td>4.9</td>\n",
       "      <td>1.4</td>\n",
       "      <td>1</td>\n",
       "    </tr>\n",
       "    <tr>\n",
       "      <th>2</th>\n",
       "      <td>4.7</td>\n",
       "      <td>1.3</td>\n",
       "      <td>1</td>\n",
       "    </tr>\n",
       "    <tr>\n",
       "      <th>3</th>\n",
       "      <td>4.6</td>\n",
       "      <td>1.5</td>\n",
       "      <td>1</td>\n",
       "    </tr>\n",
       "    <tr>\n",
       "      <th>4</th>\n",
       "      <td>5.0</td>\n",
       "      <td>1.4</td>\n",
       "      <td>1</td>\n",
       "    </tr>\n",
       "    <tr>\n",
       "      <th>...</th>\n",
       "      <td>...</td>\n",
       "      <td>...</td>\n",
       "      <td>...</td>\n",
       "    </tr>\n",
       "    <tr>\n",
       "      <th>95</th>\n",
       "      <td>5.7</td>\n",
       "      <td>4.2</td>\n",
       "      <td>0</td>\n",
       "    </tr>\n",
       "    <tr>\n",
       "      <th>96</th>\n",
       "      <td>5.7</td>\n",
       "      <td>4.2</td>\n",
       "      <td>0</td>\n",
       "    </tr>\n",
       "    <tr>\n",
       "      <th>97</th>\n",
       "      <td>6.2</td>\n",
       "      <td>4.3</td>\n",
       "      <td>0</td>\n",
       "    </tr>\n",
       "    <tr>\n",
       "      <th>98</th>\n",
       "      <td>5.1</td>\n",
       "      <td>3.0</td>\n",
       "      <td>0</td>\n",
       "    </tr>\n",
       "    <tr>\n",
       "      <th>99</th>\n",
       "      <td>5.7</td>\n",
       "      <td>4.1</td>\n",
       "      <td>0</td>\n",
       "    </tr>\n",
       "  </tbody>\n",
       "</table>\n",
       "<p>100 rows × 3 columns</p>\n",
       "</div>"
      ],
      "text/plain": [
       "    sepal_length  petal_length  species\n",
       "0            5.1           1.4        1\n",
       "1            4.9           1.4        1\n",
       "2            4.7           1.3        1\n",
       "3            4.6           1.5        1\n",
       "4            5.0           1.4        1\n",
       "..           ...           ...      ...\n",
       "95           5.7           4.2        0\n",
       "96           5.7           4.2        0\n",
       "97           6.2           4.3        0\n",
       "98           5.1           3.0        0\n",
       "99           5.7           4.1        0\n",
       "\n",
       "[100 rows x 3 columns]"
      ]
     },
     "execution_count": 8,
     "metadata": {},
     "output_type": "execute_result"
    }
   ],
   "source": [
    "df"
   ]
  },
  {
   "cell_type": "code",
   "execution_count": 9,
   "id": "8b99c9bd-c4e8-4417-852b-f88eca56069c",
   "metadata": {},
   "outputs": [],
   "source": [
    "#Entradas\n",
    "inputs = df.drop(columns=['species']).values\n",
    "\n",
    "#Salidas\n",
    "labels = df['species'].values"
   ]
  },
  {
   "cell_type": "code",
   "execution_count": 10,
   "id": "299c4ef3-8a98-4e3a-a48e-b9f03f0adf72",
   "metadata": {},
   "outputs": [
    {
     "data": {
      "image/png": "[encoded data removed]",
      "text/plain": [
       "<Figure size 640x480 with 1 Axes>"
      ]
     },
     "metadata": {},
     "output_type": "display_data"
    }
   ],
   "source": [
    "plt.scatter(inputs[:,0], inputs[:,1], c=labels, cmap='cool', marker = 'o', s= 150)\n",
    "plt.title('IRIS')\n",
    "plt.xlabel('')\n",
    "plt.ylabel('')\n",
    "plt.grid(True)\n",
    "plt.show()"
   ]
  },
  {
   "cell_type": "code",
   "execution_count": 608,
   "id": "64aabb68-6e5c-4636-b6f9-f7ed9fc2831e",
   "metadata": {},
   "outputs": [],
   "source": [
    "# Definicion de hiperparametros\n",
    "learning_rate = 0.0535#0.032807\n",
    "bias = np.random.rand() # 0.122\n",
    "epochs = 10\n",
    "weights = np.random.rand(2) #[0.356, 0.259]  No es hiperparametro"
   ]
  },
  {
   "cell_type": "code",
   "execution_count": 140,
   "id": "faa20c2b-beff-4897-98d1-7c57236cb34a",
   "metadata": {},
   "outputs": [],
   "source": [
    "# Clase Perceptron\n",
    "class Perceptron():\n",
    "    def __init__(self, inputs, labels, learning_rate, weights, bias, epochs = 20):\n",
    "        self.inputs = inputs\n",
    "        self.labels = labels\n",
    "        self.learning_rate = learning_rate\n",
    "        self.weights = weights\n",
    "        self.bias = bias\n",
    "        self.epochs = epochs\n",
    "    \n",
    "    def activation(self, z):\n",
    "        return 1 if z > 0 else 0 \n",
    "\n",
    "    def predict(self, input_x, weights_ajus, bias_ajus):\n",
    "        # Calcular la funcion ponderada z\n",
    "        z = np.dot(input_x, weights_ajus) + bias_ajus\n",
    "        # Calcular y predicha\n",
    "        y_pred = self.activation(z)\n",
    "        return y_pred\n",
    "\n",
    "    def classify(self, features, w, b):\n",
    "        result = self.predict(features, w, b)\n",
    "        label = \"Iris-setosa\" if result == 1 else \"Iris-versicolor\"\n",
    "        print(f\"{features} --> {label}\")\n",
    "        \n",
    "    def fit(self):\n",
    "        # Abrir un ciclo de acuerdo a las iteraciones (Epochs)\n",
    "        for epoch in range(self.epochs):\n",
    "            print(f\"Epoch: {epoch+1}/{self.epochs}\", end= \" \")\n",
    "\n",
    "            # variable para obtener el error por cada epoch\n",
    "            total_error = 0\n",
    "            # Abrir ciclo para recorres las entradas\n",
    "            for input, label in zip(self.inputs, self.labels):\n",
    "                #print(f\"Input {input}, Label: {label}\")\n",
    "                # Calcular la funcion ponderada z\n",
    "                z = np.dot(input, self.weights) + self.bias\n",
    "                # Calcular y predicha\n",
    "                y_pred = self.activation(z)\n",
    "                #Calcular el error\n",
    "                error = label - y_pred\n",
    "                total_error += abs(error)\n",
    "                # Calcular el delta W\n",
    "                delta_w = self.learning_rate * error * input\n",
    "                # Actualizar los weights\n",
    "                self.weights = self.weights + delta_w\n",
    "                # Actualizar el bias\n",
    "                delta_bias = self.learning_rate * error\n",
    "                self.bias = self.bias + delta_bias\n",
    "            # Calcular el error promedio\n",
    "            average_error = total_error/len(self.labels)\n",
    "            print(f\"Average Error: {average_error}\")\n",
    "                \n",
    "        #Retornar lso pesos y bias actualizados\n",
    "       \n",
    "        return self.weights, self.bias\n",
    "                \n"
   ]
  },
  {
   "cell_type": "code",
   "execution_count": 610,
   "id": "d108fd2c-67c3-42cd-a861-0413fc393b51",
   "metadata": {},
   "outputs": [
    {
     "name": "stdout",
     "output_type": "stream",
     "text": [
      "Epoch: 1/10 Average Error: 0.03\n",
      "Epoch: 2/10 Average Error: 0.01\n",
      "Epoch: 3/10 Average Error: 0.0\n",
      "Epoch: 4/10 Average Error: 0.0\n",
      "Epoch: 5/10 Average Error: 0.0\n",
      "Epoch: 6/10 Average Error: 0.0\n",
      "Epoch: 7/10 Average Error: 0.0\n",
      "Epoch: 8/10 Average Error: 0.0\n",
      "Epoch: 9/10 Average Error: 0.0\n",
      "Epoch: 10/10 Average Error: 0.0\n",
      "Weights fit: [ 0.08642612 -0.46143841], Bias fit 0.7333646091348253\n"
     ]
    }
   ],
   "source": [
    "perceptron = Perceptron(inputs, labels, learning_rate, weights, bias, 10)\n",
    "\n",
    "w, b = perceptron.fit()\n",
    "print(f\"Weights fit: {w}, Bias fit {b}\")"
   ]
  },
  {
   "cell_type": "code",
   "execution_count": 22,
   "id": "2f5f2f9c-3827-499c-a048-5b434ac704b4",
   "metadata": {},
   "outputs": [
    {
     "name": "stdout",
     "output_type": "stream",
     "text": [
      "[5.1, 3.5, 1.4, 0.2] --> 1\n",
      "[6.0, 2.2, 4.0, 1.0] --> 0\n",
      "[4.9, 3.0, 1.4, 0.2] --> 1\n",
      "[5.7, 2.8, 4.1, 1.3] --> 0\n"
     ]
    }
   ],
   "source": [
    "print(f\"[5.1, 3.5, 1.4, 0.2] --> {perceptron.predict([5.1, 1.4], w, b)}\")  # Setosa (0)\n",
    "print(f\"[6.0, 2.2, 4.0, 1.0] --> {perceptron.predict([6.0, 4.0,], w, b)}\")  # Versicolor (1)\n",
    "print(f\"[4.9, 3.0, 1.4, 0.2] --> {perceptron.predict([4.9, 1.4, 0.2], w, b)}\")  # Setosa (0)\n",
    "print(f\"[5.7, 2.8, 4.1, 1.3] --> {perceptron.predict([5.7, 2.8, 4.1, 1.3], w, b)}\")  # Versicolor (1)"
   ]
  },
  {
   "cell_type": "code",
   "execution_count": 28,
   "id": "3905651d-c2d2-4370-8d3b-fff9e607872d",
   "metadata": {},
   "outputs": [
    {
     "name": "stdout",
     "output_type": "stream",
     "text": [
      "[5.1, 1.4] --> Iris-setosa\n",
      "[6.0, 4.0] --> Iris-versicolor\n",
      "[4.9, 1.4] --> Iris-setosa\n",
      "[5.7, 4.1] --> Iris-versicolor\n"
     ]
    }
   ],
   "source": [
    "# Predicciones para algunas muestras de ejemplo\n",
    "perceptron.classify([5.1, 1.4], w, b)  # Setosa\n",
    "perceptron.classify([6.0, 4.0,], w, b)  # Versicolor\n",
    "perceptron.classify([4.9, 1.4], w, b)  # Setosa\n",
    "perceptron.classify([5.7, 4.1,], w, b)  # Versicolor"
   ]
  },
  {
   "cell_type": "code",
   "execution_count": 616,
   "id": "4f83049e-cdd4-4e44-a542-ac764e74a495",
   "metadata": {},
   "outputs": [],
   "source": [
    "# Guardar los datos en un dataset nuevo y limpio\n",
    "df.to_csv(\"IRIS_Perceptron.csv\")"
   ]
  }
 ],
 "metadata": {
  "kernelspec": {
   "display_name": "Python [conda env:base] *",
   "language": "python",
   "name": "conda-base-py"
  },
  "language_info": {
   "codemirror_mode": {
    "name": "ipython",
    "version": 3
   },
   "file_extension": ".py",
   "mimetype": "text/x-python",
   "name": "python",
   "nbconvert_exporter": "python",
   "pygments_lexer": "ipython3",
   "version": "3.12.7"
  }
 },
 "nbformat": 4,
 "nbformat_minor": 5
}
